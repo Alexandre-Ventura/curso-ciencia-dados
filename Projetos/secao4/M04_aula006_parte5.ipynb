{
 "cells": [
  {
   "cell_type": "markdown",
   "id": "9b398472",
   "metadata": {},
   "source": [
    "![title](imagens/M04-Numpy.jpg)"
   ]
  },
  {
   "cell_type": "markdown",
   "id": "099f68f2",
   "metadata": {},
   "source": [
    "## NumPy para Álgebra Linear e Técnicas Avançadas - Parte 5"
   ]
  },
  {
   "cell_type": "markdown",
   "id": "f7488ca4",
   "metadata": {},
   "source": [
    "- 5.1 Operações com Matrizes Complexas\n",
    "- 5.2 Resolver Equações Lineares\n",
    "- 5.3 Matrizes Mascaradas\n",
    "- 5.4 Matrizes Estruturadas"
   ]
  },
  {
   "cell_type": "markdown",
   "id": "9549ef3e",
   "metadata": {},
   "source": [
    "Numpy também possui uma ampla gama de funções para Álgebra Linear."
   ]
  },
  {
   "cell_type": "markdown",
   "id": "bec66466",
   "metadata": {},
   "source": [
    "### 5.1 Operações com Matrizes Complexas"
   ]
  },
  {
   "cell_type": "markdown",
   "id": "8ba06872",
   "metadata": {},
   "source": [
    "Já vimos a criação de vetores, matrizes e as incríveis operações matriciais que podemos fazer com Numpy. Aqui estão até operações matriciais complexas.\n",
    "\n",
    "- **Inversão de Matriz:** Você pode calcular o inverso de uma matriz usando a função NumPy `np.linalg.inv()`.\n",
    "- **Autovalores e Autovetores:** Você pode calcular autovalores e autovetores de matrizes usando `np.linalg.eig()`.\n",
    "- **Normas e Distâncias Matriciais:** Calcule normas matriciais (por exemplo, norma Frobenius) usando `np.linalg.norm()`. Você também pode usá-lo para calcular distâncias entre vetores ou matrizes.\n",
    "- **Classificação da Matriz:** Encontre a classificação de uma matriz usando `np.linalg.matrix_rank()`.\n",
    "\n"
   ]
  },
  {
   "cell_type": "markdown",
   "id": "964e664a",
   "metadata": {},
   "source": [
    "### 5.2 Resolver Equações Lineares"
   ]
  },
  {
   "cell_type": "markdown",
   "id": "8d41c007",
   "metadata": {},
   "source": [
    "Você pode resolver equações lineares com recursos numpy. Para resolver sistemas de equações lineares use`np.linalg.solve()`.\n"
   ]
  },
  {
   "cell_type": "code",
   "execution_count": 1,
   "id": "bd103f35",
   "metadata": {},
   "outputs": [],
   "source": [
    "#importando o NumPy\n",
    "import numpy as np"
   ]
  },
  {
   "cell_type": "code",
   "execution_count": 2,
   "id": "34f8807c",
   "metadata": {},
   "outputs": [
    {
     "name": "stdout",
     "output_type": "stream",
     "text": [
      "[-4.5  5. ]\n"
     ]
    }
   ],
   "source": [
    "A = np.array([[ 2, 3 ], [ 4, 5 ]]) \n",
    "b = np.array([ 6, 7 ]) \n",
    "\n",
    "# Resolva Ax = b para x\n",
    "x = np.linalg.solve(A, b )\n",
    "print(x)"
   ]
  },
  {
   "cell_type": "markdown",
   "id": "d632ef72",
   "metadata": {},
   "source": [
    "### 5.3 Matrizes Mascaradas"
   ]
  },
  {
   "cell_type": "markdown",
   "id": "59498577",
   "metadata": {},
   "source": [
    "Matrizes mascaradas no NumPy permitem trabalhar com dados onde certos elementos são inválidos ou ausentes. Uma máscara é um array booleano que indica quais elementos devem ser considerados válidos e quais devem ser mascarados (inválidos ou ausentes).\n",
    "\n",
    "Matrizes mascaradas permitem executar operações em dados válidos enquanto ignora os elementos mascarados."
   ]
  },
  {
   "cell_type": "code",
   "execution_count": 3,
   "id": "aab7a98d",
   "metadata": {},
   "outputs": [
    {
     "name": "stdout",
     "output_type": "stream",
     "text": [
      "Temperatura Média Geral:  -188.66666666666666\n",
      "Temperatura média (excluindo valores ausentes): 13.916666666666666\n"
     ]
    }
   ],
   "source": [
    "# Importando especificamente a classe \"ma\" para trabalhar matrizes mascaradas (todo o pacote numpy está já importado como np)\n",
    "import numpy.ma as ma \n",
    "\n",
    "# Conjunto de dados de temperatura com valores ausentes (-999 representa valores ausentes)\n",
    "temperaturas = np.array([22, 5, 23, 0, -999, 24, 5, -999, 26, 0, 27, 2, -999, 28, 5]) \n",
    "\n",
    "# Calcule a temperatura média sem lidar com valores faltantes\n",
    "mean_temperatura = np.mean(temperaturas) \n",
    "\n",
    "# Imprima o resultado\n",
    "print('Temperatura Média Geral: ', mean_temperatura)\n",
    "\n",
    "# Crie uma máscara para valores faltantes ( -999)\n",
    "mask = (temperaturas == -999 ) \n",
    "\n",
    "# Crie uma matriz mascarada\n",
    "masked_temperaturas = ma.masked_array(temperaturas, mask=mask) \n",
    "\n",
    "# Calcule a temperatura média (excluindo valores ausentes)\n",
    "mean_temperatura = ma.mean(masked_temperaturas) \n",
    "\n",
    "# Imprima o novo resultado \n",
    "print(\"Temperatura média (excluindo valores ausentes):\" , mean_temperatura)"
   ]
  },
  {
   "cell_type": "markdown",
   "id": "528cd853",
   "metadata": {},
   "source": [
    "### 5.4 Matrizes Estruturadas"
   ]
  },
  {
   "cell_type": "markdown",
   "id": "cf386189",
   "metadata": {},
   "source": [
    "Matrizes estruturadas permitem trabalhar com dados semelhantes a uma tabela com colunas nomeadas. Cada elemento de uma matriz estruturada pode ter diferentes tipos de dados. Crie seus tipos de dados usando `np.dtype` e adicione o nome da coluna e o tipo de dados como uma tupla. Então você pode passá-lo para o seu array.\n"
   ]
  },
  {
   "cell_type": "code",
   "execution_count": 4,
   "id": "3c300b67",
   "metadata": {},
   "outputs": [
    {
     "name": "stdout",
     "output_type": "stream",
     "text": [
      "b'Alice'\n",
      "[30 25]\n"
     ]
    }
   ],
   "source": [
    "# Defina os tipos de dados para os campos\n",
    "dt = np.dtype([( 'nome' , 'S20' ), ( 'idade' , int ), ( 'salario' , float )]) \n",
    "\n",
    "# Criando uma matriz estruturada de Funcionários\n",
    "funcionarios = np.array([('Alice', 30, 50000.0), ('Roberto', 25, 60000.0)], dtype=dt) \n",
    "\n",
    "# Acesse o campo 'nome' do primeiro funcionário \n",
    "print(funcionarios['nome'] [0]) \n",
    "\n",
    "# Acessar o campo 'idade' de todos os funcionários \n",
    "print(funcionarios['idade'])"
   ]
  },
  {
   "cell_type": "markdown",
   "id": "62adc950",
   "metadata": {},
   "source": [
    "## FIM"
   ]
  }
 ],
 "metadata": {
  "kernelspec": {
   "display_name": "Python 3 (ipykernel)",
   "language": "python",
   "name": "python3"
  },
  "language_info": {
   "codemirror_mode": {
    "name": "ipython",
    "version": 3
   },
   "file_extension": ".py",
   "mimetype": "text/x-python",
   "name": "python",
   "nbconvert_exporter": "python",
   "pygments_lexer": "ipython3",
   "version": "3.10.12"
  }
 },
 "nbformat": 4,
 "nbformat_minor": 5
}
