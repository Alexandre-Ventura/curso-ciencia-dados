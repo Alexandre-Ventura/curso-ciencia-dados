{
 "cells": [
  {
   "cell_type": "markdown",
   "metadata": {},
   "source": [
    "<h2>2.1 Operações Elementares"
   ]
  },
  {
   "cell_type": "code",
   "execution_count": 15,
   "metadata": {},
   "outputs": [],
   "source": [
    "import numpy as np"
   ]
  },
  {
   "cell_type": "code",
   "execution_count": 16,
   "metadata": {},
   "outputs": [],
   "source": [
    "# Criando vetores Numpy 1D\n",
    "arr1 = np.array([1, 2, 3])\n",
    "arr2 = np.array([4, 5, 6])\n",
    "escalar = 2"
   ]
  },
  {
   "cell_type": "code",
   "execution_count": 17,
   "metadata": {},
   "outputs": [
    {
     "name": "stdout",
     "output_type": "stream",
     "text": [
      "[5 7 9]\n"
     ]
    }
   ],
   "source": [
    "# Adição\n",
    "result_add = arr1 + arr2\n",
    "print(result_add)"
   ]
  },
  {
   "cell_type": "code",
   "execution_count": 18,
   "metadata": {},
   "outputs": [
    {
     "name": "stdout",
     "output_type": "stream",
     "text": [
      "[ 4 10 18]\n"
     ]
    }
   ],
   "source": [
    "# Multiplicação\n",
    "result_mult = arr1 * arr2\n",
    "print(result_mult)"
   ]
  },
  {
   "cell_type": "code",
   "execution_count": 19,
   "metadata": {},
   "outputs": [
    {
     "name": "stdout",
     "output_type": "stream",
     "text": [
      "[4. 5. 6.]\n"
     ]
    }
   ],
   "source": [
    "# Divisão\n",
    "result_div = result_mult / arr1\n",
    "print(result_div)"
   ]
  },
  {
   "cell_type": "code",
   "execution_count": 20,
   "metadata": {},
   "outputs": [
    {
     "name": "stdout",
     "output_type": "stream",
     "text": [
      "[ 3  8 15]\n"
     ]
    }
   ],
   "source": [
    "# Subtração\n",
    "result_sub = result_mult - arr1\n",
    "print(result_sub)"
   ]
  },
  {
   "cell_type": "code",
   "execution_count": 21,
   "metadata": {},
   "outputs": [],
   "source": [
    "# Criando vetores Numpy 2D (matrizes)\n",
    "matriz1 = np.array([[1, 2], [3, 4]])\n",
    "matriz2 = np.array([[5, 6], [7, 8]])\n"
   ]
  },
  {
   "cell_type": "code",
   "execution_count": 22,
   "metadata": {},
   "outputs": [
    {
     "name": "stdout",
     "output_type": "stream",
     "text": [
      "[[ 5 12]\n",
      " [21 32]]\n"
     ]
    }
   ],
   "source": [
    "# Multiplicação (por elemento, não multiplicação de matriz)\n",
    "result_matriz = matriz1 * matriz2\n",
    "print(result_matriz)"
   ]
  },
  {
   "cell_type": "code",
   "execution_count": 23,
   "metadata": {},
   "outputs": [
    {
     "name": "stdout",
     "output_type": "stream",
     "text": [
      "[[19 22]\n",
      " [43 50]]\n"
     ]
    }
   ],
   "source": [
    "# Multiplicação de matriz real usando np.dot\n",
    "matriz_multiplicacao = np.dot(matriz1, matriz2)\n",
    "print(matriz_multiplicacao)"
   ]
  },
  {
   "cell_type": "code",
   "execution_count": 24,
   "metadata": {},
   "outputs": [
    {
     "name": "stdout",
     "output_type": "stream",
     "text": [
      "[ 8 10 12]\n"
     ]
    }
   ],
   "source": [
    "# Broadcasting: Multiplique o array por um resultado escalar\n",
    "result = arr2 * escalar\n",
    "print(result)"
   ]
  },
  {
   "cell_type": "markdown",
   "metadata": {},
   "source": [
    "<h2>Anexar e Excluir"
   ]
  },
  {
   "cell_type": "markdown",
   "metadata": {},
   "source": [
    "Para acrescentar matrizes no NumPy, você pode usar a `numpy.append()` função. Esta função permite adicionar elementos ao final de um array existente ao longo de um eixo especificado.\n",
    "\n",
    "Tenha em mente que `np.append()` retorna um novo array com os elementos anexados; portanto, não modifica os arrays originais. Se quiser modificar uma matriz existente no local, você pode usar métodos como `np.concatenate()` ou usar instruções de atribuição.\n",
    "\n",
    "Podemos usar `np.delete` para remover os itens de um array."
   ]
  },
  {
   "cell_type": "code",
   "execution_count": 25,
   "metadata": {},
   "outputs": [
    {
     "name": "stdout",
     "output_type": "stream",
     "text": [
      "[1 2 3]\n"
     ]
    }
   ],
   "source": [
    "# Crie um array\n",
    "original_array = np.array([1, 2, 3])\n",
    "print(original_array)"
   ]
  },
  {
   "cell_type": "code",
   "execution_count": 26,
   "metadata": {},
   "outputs": [
    {
     "name": "stdout",
     "output_type": "stream",
     "text": [
      "[1 2 3 4 5 6]\n"
     ]
    }
   ],
   "source": [
    "# Anexar elementos no local \n",
    "original_array = np.append(original_array, [4, 5, 6])\n",
    "print(original_array)"
   ]
  },
  {
   "cell_type": "code",
   "execution_count": 27,
   "metadata": {},
   "outputs": [
    {
     "name": "stdout",
     "output_type": "stream",
     "text": [
      "[1 2 3 4 5]\n"
     ]
    }
   ],
   "source": [
    "# Crie um array Numpy\n",
    "arr = np.array([1, 2, 3, 4, 5])\n",
    "print(arr)"
   ]
  },
  {
   "cell_type": "code",
   "execution_count": 28,
   "metadata": {},
   "outputs": [
    {
     "name": "stdout",
     "output_type": "stream",
     "text": [
      "[1 2 4 5]\n"
     ]
    }
   ],
   "source": [
    "# Remova o item do indice 2 (valor 3)\n",
    "new_arr = np.delete(arr, 2)\n",
    "print(new_arr)"
   ]
  },
  {
   "cell_type": "code",
   "execution_count": 29,
   "metadata": {},
   "outputs": [
    {
     "name": "stdout",
     "output_type": "stream",
     "text": [
      "[[ 1  2  3  4]\n",
      " [ 5  6  7  8]\n",
      " [ 9 10 11 12]]\n"
     ]
    }
   ],
   "source": [
    "# Crie um array numpy 2D\n",
    "arr = np.array([[1, 2, 3, 4], [5, 6, 7, 8], [9, 10, 11, 12]])\n",
    "print(arr)"
   ]
  },
  {
   "cell_type": "code",
   "execution_count": 30,
   "metadata": {},
   "outputs": [
    {
     "name": "stdout",
     "output_type": "stream",
     "text": [
      "[[1 2 3 4]\n",
      " [5 6 7 8]]\n"
     ]
    }
   ],
   "source": [
    "# Remova a segunda linha (indice 1)\n",
    "new_arr = np.delete(arr, 2, axis=0)\n",
    "print(new_arr)"
   ]
  },
  {
   "cell_type": "markdown",
   "metadata": {},
   "source": [
    "<h2>2.3 Funções de Agregação de ufuncs(funções universais)"
   ]
  },
  {
   "cell_type": "markdown",
   "metadata": {},
   "source": [
    "NumPy fornece funções integradas para operações de agregação comuns em matrizes, incluindo média, soma, mínimo, máximo, etc. NumPy também fornece funções universais (ufuncs) que operam em elementos em matrizes, incluindo funções matemáticas, trigonométricas e exponenciais."
   ]
  },
  {
   "cell_type": "code",
   "execution_count": 31,
   "metadata": {},
   "outputs": [
    {
     "name": "stdout",
     "output_type": "stream",
     "text": [
      "[1 2 3 4 5]\n"
     ]
    }
   ],
   "source": [
    "# Criando um array Numpy\n",
    "arr = np.array([1, 2, 3, 4, 5])\n",
    "print(arr)"
   ]
  },
  {
   "cell_type": "code",
   "execution_count": 32,
   "metadata": {},
   "outputs": [
    {
     "name": "stdout",
     "output_type": "stream",
     "text": [
      "Valor médio:  3.0\n",
      "Mediana:  3.0\n",
      "Variância:  2.0\n",
      "Desvio Padrão:  1.4142135623730951\n"
     ]
    }
   ],
   "source": [
    "# Funções de agregração \n",
    "\n",
    "mean_value = np.mean(arr)           # média\n",
    "median_value = np.median(arr)        # mediana\n",
    "variance = np.var(arr)              # variancia \n",
    "standard_deviation = np.std(arr)    # desvião padrão\n",
    "print('Valor médio: ', mean_value)\n",
    "print('Mediana: ', median_value)\n",
    "print('Variância: ', variance)\n",
    "print('Desvio Padrão: ', standard_deviation)"
   ]
  },
  {
   "cell_type": "code",
   "execution_count": 33,
   "metadata": {},
   "outputs": [
    {
     "name": "stdout",
     "output_type": "stream",
     "text": [
      "Soma:  15\n",
      "Máximo:  5\n",
      "Minimo:  1\n"
     ]
    }
   ],
   "source": [
    "sum_value = np.sum(arr)\n",
    "max_value = np.max(arr)\n",
    "min_value = np.min(arr)\n",
    "print('Soma: ', sum_value)\n",
    "print('Máximo: ', max_value)\n",
    "print('Minimo: ',min_value)"
   ]
  },
  {
   "cell_type": "code",
   "execution_count": 34,
   "metadata": {},
   "outputs": [
    {
     "name": "stdout",
     "output_type": "stream",
     "text": [
      "Raiz quadrada:  [1.         1.41421356 1.73205081 2.         2.23606798]\n",
      "Exponencial..:  [  2.71828183   7.3890561   20.08553692  54.59815003 148.4131591 ]\n"
     ]
    }
   ],
   "source": [
    "# Funções Universais\n",
    "sqrt_value = np.sqrt(arr)\n",
    "exp_value = np.exp(arr)\n",
    "print('Raiz quadrada: ', sqrt_value)\n",
    "print('Exponencial..: ', exp_value)"
   ]
  },
  {
   "cell_type": "markdown",
   "metadata": {},
   "source": [
    "<h2>Remodelando Arrays"
   ]
  },
  {
   "cell_type": "markdown",
   "metadata": {},
   "source": [
    "Você pode alterar a forma de um array sem alterar seus dados usando o método `reshape`, por exemplo, para achatar um array (convertê-lo em um array 1D) ou alterá-lo para um array de dimensão superior (por exemplo, de 1D para 2D ou de 2D para 3D).\n",
    "\n",
    "O método `reshape` pode ser particularmente útil quando você precisa preparar dados para diversas operações, como multiplicação de matrizes, convolução ou exibição de imagens.\n",
    "\n",
    "Para remodelar o método, você pode passar a forma do resultado esperado que deseja. O número total de elementos na matriz original deve corresponder ao número total de elementos na nova forma. Em outras palavras, o produto das dimensões na nova forma deve ser igual ao número total de elementos na matriz original. NumPy gerará um erro se esta condição não for atendida."
   ]
  },
  {
   "cell_type": "code",
   "execution_count": 35,
   "metadata": {},
   "outputs": [
    {
     "name": "stdout",
     "output_type": "stream",
     "text": [
      "[[1 2 3]\n",
      " [4 5 6]]\n"
     ]
    }
   ],
   "source": [
    "# Criando um array 2D\n",
    "arr2D = np.array([[1, 2, 3], [4, 5, 6]])\n",
    "print(arr2D)"
   ]
  },
  {
   "cell_type": "code",
   "execution_count": 36,
   "metadata": {},
   "outputs": [
    {
     "name": "stdout",
     "output_type": "stream",
     "text": [
      "[1 2 3 4 5 6]\n"
     ]
    }
   ],
   "source": [
    "# Aqui como estamos passando apenas 6, ele irá converter o array 2d em 1d array \n",
    "# com 6 elementos, você não pode passar nada além de 6, \n",
    "# pois não corresponde ao array original! \n",
    "arr1D = arr2D.reshape(6)\n",
    "print(arr1D)"
   ]
  },
  {
   "cell_type": "code",
   "execution_count": 37,
   "metadata": {},
   "outputs": [
    {
     "name": "stdout",
     "output_type": "stream",
     "text": [
      "[1 2 3 4 5 6]\n"
     ]
    }
   ],
   "source": [
    "# Criando um array 1D\n",
    "arr_1d = np.array([1, 2, 3, 4, 5, 6])\n",
    "print(arr_1d)"
   ]
  },
  {
   "cell_type": "code",
   "execution_count": 38,
   "metadata": {},
   "outputs": [
    {
     "name": "stdout",
     "output_type": "stream",
     "text": [
      "[[1 2 3]\n",
      " [4 5 6]]\n"
     ]
    }
   ],
   "source": [
    "# Remodelando para 2D\n",
    "arr_2d = arr_1d.reshape(2,3)\n",
    "print(arr_2d)"
   ]
  },
  {
   "cell_type": "code",
   "execution_count": 40,
   "metadata": {},
   "outputs": [
    {
     "name": "stdout",
     "output_type": "stream",
     "text": [
      "(12,)\n"
     ]
    }
   ],
   "source": [
    "# Criando um array 1D com 12 elementos\n",
    "arr = np.arange(12)\n",
    "print(arr.shape)"
   ]
  },
  {
   "cell_type": "code",
   "execution_count": 45,
   "metadata": {},
   "outputs": [
    {
     "name": "stdout",
     "output_type": "stream",
     "text": [
      "(2, 6)\n"
     ]
    }
   ],
   "source": [
    "# Remodelando em um array 2D com um número desconhecido de colunas (-1)\n",
    "reformed_arr = arr.reshape(2, -1)\n",
    "print(reformed_arr.shape)"
   ]
  },
  {
   "cell_type": "markdown",
   "metadata": {},
   "source": [
    "<h2>FIM"
   ]
  }
 ],
 "metadata": {
  "kernelspec": {
   "display_name": ".venv",
   "language": "python",
   "name": "python3"
  },
  "language_info": {
   "codemirror_mode": {
    "name": "ipython",
    "version": 3
   },
   "file_extension": ".py",
   "mimetype": "text/x-python",
   "name": "python",
   "nbconvert_exporter": "python",
   "pygments_lexer": "ipython3",
   "version": "3.10.12"
  }
 },
 "nbformat": 4,
 "nbformat_minor": 2
}
