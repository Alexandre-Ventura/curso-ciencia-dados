{
 "cells": [
  {
   "cell_type": "markdown",
   "id": "9b398472",
   "metadata": {},
   "source": [
    "![title](imagens/M04-Numpy.jpg)"
   ]
  },
  {
   "cell_type": "markdown",
   "id": "099f68f2",
   "metadata": {},
   "source": [
    "## Numpy - Trabalhando com arrays Numpy - Parte 3"
   ]
  },
  {
   "cell_type": "markdown",
   "id": "f7488ca4",
   "metadata": {},
   "source": [
    "- 3.1 Combinando arrays\n",
    "- 3.2 Dividindo arrays\n",
    "- 3.3 Alias ​​vs. Visualização vs. Cópia de arrays\n",
    "- 3.4 Classificando arrays Numpy"
   ]
  },
  {
   "cell_type": "markdown",
   "id": "bec66466",
   "metadata": {},
   "source": [
    "### 3.1 Combinando arrays"
   ]
  },
  {
   "cell_type": "markdown",
   "id": "8ba06872",
   "metadata": {},
   "source": [
    "NumPy fornece a função `np.concatenate()` para concatenar arrays ao longo de um eixo especificado. E o empilhamento de matrizes pode ser feito usando funções como `np.vstack()` (empilhamento vertical) e `np.hstack()` (empilhamento horizontal).\n"
   ]
  },
  {
   "cell_type": "code",
   "execution_count": 1,
   "id": "bd103f35",
   "metadata": {},
   "outputs": [],
   "source": [
    "#importando o NumPy\n",
    "import numpy as np"
   ]
  },
  {
   "cell_type": "code",
   "execution_count": 2,
   "id": "1c25316d",
   "metadata": {},
   "outputs": [
    {
     "name": "stdout",
     "output_type": "stream",
     "text": [
      "[1 2 3 4 5 6]\n"
     ]
    }
   ],
   "source": [
    "arr1 = np.array([ 1 , 2 , 3 ]) \n",
    "arr2 = np.array([ 4 , 5 , 6 ]) \n",
    "\n",
    "# Concatenar ao longo do eixo 0 (linhas)\n",
    "combinado = np.concatenate((arr1, arr2)) \n",
    "print(combinado)"
   ]
  },
  {
   "cell_type": "code",
   "execution_count": 3,
   "id": "148ea966",
   "metadata": {},
   "outputs": [
    {
     "name": "stdout",
     "output_type": "stream",
     "text": [
      "[[1 2 3]\n",
      " [4 5 6]]\n"
     ]
    }
   ],
   "source": [
    "# Empilhamento vertical\n",
    "vertical_stack = np.vstack((arr1, arr2)) \n",
    "print(vertical_stack)"
   ]
  },
  {
   "cell_type": "code",
   "execution_count": 4,
   "id": "4a68a4e7",
   "metadata": {},
   "outputs": [
    {
     "name": "stdout",
     "output_type": "stream",
     "text": [
      "[1 2 3 4 5 6]\n"
     ]
    }
   ],
   "source": [
    "# Empilhamento horizontal\n",
    "horizontal_stack = np.hstack((arr1, arr2))\n",
    "print(horizontal_stack)"
   ]
  },
  {
   "cell_type": "markdown",
   "id": "62adc950",
   "metadata": {},
   "source": [
    "### 3.2 Dividindo Arrays"
   ]
  },
  {
   "cell_type": "markdown",
   "id": "d14e67df",
   "metadata": {},
   "source": [
    "Dividir arrays é o oposto de combiná-los. É o processo de dividir um único array em vários arrays menores. NumPy fornece funções `np.split()`, `np.hsplit()` e `np.vsplit()` para essa finalidade.\n"
   ]
  },
  {
   "cell_type": "code",
   "execution_count": 5,
   "id": "49c5c787",
   "metadata": {},
   "outputs": [
    {
     "name": "stdout",
     "output_type": "stream",
     "text": [
      "[array([1, 2]), array([3, 4]), array([5, 6])]\n"
     ]
    }
   ],
   "source": [
    "arr = np.array([ 1 , 2 , 3 , 4 , 5 , 6 ]) \n",
    "\n",
    "# Dividido em três partes iguais\n",
    "split_arr = np.split(arr, 3 ) \n",
    "print(split_arr)"
   ]
  },
  {
   "cell_type": "markdown",
   "id": "4399ab51",
   "metadata": {},
   "source": [
    "### 3.3 Alias ​​vs. Visualização vs. Cópia de Arrays"
   ]
  },
  {
   "cell_type": "markdown",
   "id": "6054034f",
   "metadata": {},
   "source": [
    "**Alias:** Um alias refere-se a múltiplas variáveis que apontam para o mesmo objeto de matriz NumPy subjacente. Eles compartilham os mesmos dados na memória. As alterações na matriz de alias afetarão a matriz original.\n",
    "\n",
    "**Visualização:** O método `.view()` cria um novo objeto array que analisa os mesmos dados do array original, mas não compartilha a mesma identidade. Ele fornece uma maneira de visualizar os dados de maneira diferente ou com diferentes tipos de dados, mas ainda opera com os mesmos dados subjacentes.\n",
    "\n",
    "**Cópia:** Uma cópia é uma duplicata completamente independente de um array NumPy. Ele possui seus próprios dados na memória e as alterações feitas na cópia não afetarão o array original e vice-versa.\n"
   ]
  },
  {
   "cell_type": "code",
   "execution_count": 6,
   "id": "94eb87af",
   "metadata": {},
   "outputs": [
    {
     "name": "stdout",
     "output_type": "stream",
     "text": [
      "[1 2 3]\n"
     ]
    }
   ],
   "source": [
    "original_arr = np.array([ 1 , 2 , 3 ]) \n",
    "\n",
    "# alias do array original\n",
    "alias_arr = original_arr \n",
    "print(alias_arr)"
   ]
  },
  {
   "cell_type": "code",
   "execution_count": 7,
   "id": "79b24953",
   "metadata": {},
   "outputs": [
    {
     "name": "stdout",
     "output_type": "stream",
     "text": [
      "[1 2 3]\n"
     ]
    }
   ],
   "source": [
    "# Alterações em view_arr afetarão o array original\n",
    "view_arr = original_arr.view() \n",
    "print(view_arr)"
   ]
  },
  {
   "cell_type": "code",
   "execution_count": 8,
   "id": "f1566ce5",
   "metadata": {},
   "outputs": [
    {
     "name": "stdout",
     "output_type": "stream",
     "text": [
      "[1 2 3]\n"
     ]
    }
   ],
   "source": [
    "# Alterações em copy_arr não afetarão o array original\n",
    "copy_arr = original_arr.copy()\n",
    "print(copy_arr)"
   ]
  },
  {
   "cell_type": "markdown",
   "id": "09f4de5c",
   "metadata": {},
   "source": [
    "### 3.4 Classificando Arrays Numpy"
   ]
  },
  {
   "cell_type": "markdown",
   "id": "f7d89c71",
   "metadata": {},
   "source": [
    "Você pode usar `np.sort(array)` para classificar o array em ordem crescente, porém para ordem decrescente você tem que usar o truque de fatiar o array `[::-1]`, que inverte os elementos do array.\n"
   ]
  },
  {
   "cell_type": "code",
   "execution_count": 9,
   "id": "3569e63c",
   "metadata": {},
   "outputs": [
    {
     "name": "stdout",
     "output_type": "stream",
     "text": [
      "[1 2 3 4 5]\n",
      "[5 4 3 2 1]\n"
     ]
    }
   ],
   "source": [
    "data = np.array([ 3 , 1 , 5 , 2 , 4 ]) \n",
    "sorted_data = np.sort(data)   # Ordem crescente\n",
    "print(sorted_data)\n",
    "reverse_sorted_data = np.sort(data)[::-1 ]   # Ordem decrescente \n",
    "print(reverse_sorted_data)"
   ]
  },
  {
   "cell_type": "code",
   "execution_count": 10,
   "id": "e2b88344",
   "metadata": {},
   "outputs": [
    {
     "name": "stdout",
     "output_type": "stream",
     "text": [
      "[3 1 5 2 4]\n"
     ]
    }
   ],
   "source": [
    "# Você também pode recuperar os índices que classificariam os dados. \n",
    "data = np.array([ 3 , 1 , 5 , 2 , 4 ]) \n",
    "print(data)"
   ]
  },
  {
   "cell_type": "code",
   "execution_count": 11,
   "id": "2d9b231f",
   "metadata": {},
   "outputs": [
    {
     "name": "stdout",
     "output_type": "stream",
     "text": [
      "[1 3 0 4 2]\n"
     ]
    }
   ],
   "source": [
    "# Retorna índices que classificariam o array. \n",
    "indices_classificados = np.argsort(data)\n",
    "print(indices_classificados)"
   ]
  },
  {
   "cell_type": "markdown",
   "id": "95f0e9e1",
   "metadata": {},
   "source": [
    "## FIM"
   ]
  }
 ],
 "metadata": {
  "kernelspec": {
   "display_name": "Python 3 (ipykernel)",
   "language": "python",
   "name": "python3"
  },
  "language_info": {
   "codemirror_mode": {
    "name": "ipython",
    "version": 3
   },
   "file_extension": ".py",
   "mimetype": "text/x-python",
   "name": "python",
   "nbconvert_exporter": "python",
   "pygments_lexer": "ipython3",
   "version": "3.11.7"
  }
 },
 "nbformat": 4,
 "nbformat_minor": 5
}
