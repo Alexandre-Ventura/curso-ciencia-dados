{
 "cells": [
  {
   "cell_type": "markdown",
   "id": "92642bc8",
   "metadata": {},
   "source": [
    "![title](imagens/M04-Numpy.jpg)"
   ]
  },
  {
   "cell_type": "markdown",
   "id": "9e29c5fe",
   "metadata": {},
   "source": [
    "# Numpy - Uma introdução ao Pacote Numpy - Parte 1"
   ]
  },
  {
   "cell_type": "markdown",
   "id": "e38b1592",
   "metadata": {},
   "source": [
    "Seja bem-vindo ao universo do NumPy! Aqui, você transcende as limitações das listas Python e adquire o poder de executar operações de array complexas de maneira eficiente, graças à robusta biblioteca NumPy, uma abreviação para \"Python Numérico\". Neste módulo abrangente e objetivo, embarque conosco para desvendar os segredos do NumPy e desbloquear todo o seu potencial extraordinário."
   ]
  },
  {
   "cell_type": "markdown",
   "id": "3ea301c6",
   "metadata": {},
   "source": [
    "Serão abordados os seguintes assuntos:"
   ]
  },
  {
   "cell_type": "markdown",
   "id": "71795dfb",
   "metadata": {},
   "source": [
    "### Índice\n",
    "\n",
    "#### Parte1: Noções básicas de array Numpy\n",
    "- 1.1 Compreendendo tipos de dados Numpy\n",
    "- 1.2 Criando arrays Numpy\n",
    "- 1.3 Indexação em Arrays NumPy\n",
    "- 1.4 Funções/Métodos NumPy\n",
    "\n",
    "#### Parte 2: Operações com Arrays\n",
    "- 2.1 Operações entre elementos\n",
    "- 2.2 Anexar e excluir\n",
    "- 2.3 Funções de agregação e ufuncs\n",
    "- 2.4 Remodelando arrays\n",
    "\n",
    "#### Parte3: Trabalhando com Arrays Numpy\n",
    "- 3.1 Combinando arrays\n",
    "- 3.2 Dividindo arrays\n",
    "- 3.3 Alias ​​vs. Visualização vs. Cópia de arrays\n",
    "- 3.4 Classificando arrays Numpy\n",
    "\n",
    "#### Parte4: NumPy para limpeza de dados e análise estatística\n",
    "- 4.1 Identificando valores ausentes\n",
    "- 4.2 Removendo linhas ou colunas com valores ausentes\n",
    "- 4.3 Transformação de dados\n",
    "- 4.4 Amostragem aleatória\n",
    "\n",
    "#### Parte5: NumPy para Álgebra Linear e Técnicas Avançadas\n",
    "- 5.1 Operações de Matrizes Complexas\n",
    "- 5.2 Resolver Equações Lineares\n",
    "- 5.3 Matrizes Mascaradas\n",
    "- 5.4 Matrizes Estruturadas\n"
   ]
  },
  {
   "cell_type": "markdown",
   "id": "e5d96b19",
   "metadata": {},
   "source": [
    "## Parte1: Noções básicas de array Numpy\n"
   ]
  },
  {
   "cell_type": "markdown",
   "id": "db1587a1",
   "metadata": {},
   "source": [
    "Os arrays NumPy são projetados para computação numérica e científica , tornando-os ideais para tarefas como análise de dados, aprendizado de máquina e operações matemáticas."
   ]
  },
  {
   "cell_type": "markdown",
   "id": "53590225",
   "metadata": {},
   "source": [
    "### 1.1 Compreendendo tipos de dados Numpy"
   ]
  },
  {
   "cell_type": "markdown",
   "id": "755a4f41",
   "metadata": {},
   "source": [
    "Em Numpy Arrays, todos os elementos dentro de um único array devem ter o mesmo tipo de dados. Essa homogeneidade é um dos principais recursos que tornam os arrays NumPy eficientes e adequados para computação numérica, e alguns outros motivos são os seguintes:\n",
    "\n",
    "- **Eficiência:** Nos bastidores, o NumPy é implementado em C e Fortran, tornando as operações em grandes arrays extremamente rápidas em comparação com o código Python equivalente.\n",
    "- **Poder matemático:** você não acreditaria na ampla variedade de funções e operações matemáticas disponíveis no Numpy, facilitando tarefas como álgebra linear, estatística e cálculos matemáticos complexos.\n",
    "- **Interoperabilidade:** NumPy integra-se perfeitamente com outras bibliotecas Python, como Pandas, SciPy e Matplotlib.\n"
   ]
  },
  {
   "cell_type": "code",
   "execution_count": 1,
   "id": "bd103f35",
   "metadata": {},
   "outputs": [],
   "source": [
    "#importando o NumPy\n",
    "import numpy as np"
   ]
  },
  {
   "cell_type": "code",
   "execution_count": 2,
   "id": "34f8807c",
   "metadata": {},
   "outputs": [
    {
     "data": {
      "text/plain": [
       "'1.26.4'"
      ]
     },
     "execution_count": 2,
     "metadata": {},
     "output_type": "execute_result"
    }
   ],
   "source": [
    "#verificando a versão do numpy\n",
    "np.__version__"
   ]
  },
  {
   "cell_type": "code",
   "execution_count": 3,
   "id": "7f7d1d62",
   "metadata": {},
   "outputs": [],
   "source": [
    "# Para instalação de uma versão exata de um pacote Python\n",
    "# Este módulo foi executado utilizando a versão 1.26.4 do Numpy\n",
    "# !pip install numpy==1.26.4"
   ]
  },
  {
   "cell_type": "markdown",
   "id": "b9dad107",
   "metadata": {},
   "source": [
    "### 1.2 Criando arrays Numpy"
   ]
  },
  {
   "cell_type": "code",
   "execution_count": 4,
   "id": "a385ad12",
   "metadata": {},
   "outputs": [],
   "source": [
    "#Criando um Array a partir de uma lista Python\n",
    "array1 = np.array([2, 5, 10, 34, 23, 9, 73, 21, 6])"
   ]
  },
  {
   "cell_type": "code",
   "execution_count": 5,
   "id": "aab7a98d",
   "metadata": {},
   "outputs": [
    {
     "name": "stdout",
     "output_type": "stream",
     "text": [
      "[ 2  5 10 34 23  9 73 21  6]\n"
     ]
    }
   ],
   "source": [
    "print(array1)"
   ]
  },
  {
   "cell_type": "code",
   "execution_count": 6,
   "id": "555ac1dc",
   "metadata": {},
   "outputs": [
    {
     "data": {
      "text/plain": [
       "numpy.ndarray"
      ]
     },
     "execution_count": 6,
     "metadata": {},
     "output_type": "execute_result"
    }
   ],
   "source": [
    "#Conformando o tipo de dados do array criado\n",
    "type(array1)"
   ]
  },
  {
   "cell_type": "code",
   "execution_count": 7,
   "id": "16dccae0",
   "metadata": {},
   "outputs": [
    {
     "data": {
      "text/plain": [
       "(9,)"
      ]
     },
     "execution_count": 7,
     "metadata": {},
     "output_type": "execute_result"
    }
   ],
   "source": [
    "#ndarray - n dimensional array - array de dimensão n\n",
    "\n",
    "#Vamos ver o formato (shape) desse array\n",
    "array1.shape"
   ]
  },
  {
   "cell_type": "code",
   "execution_count": 8,
   "id": "e024d02f",
   "metadata": {},
   "outputs": [],
   "source": [
    "# Os arrays são estruturas de dados muito mais eficientes do que os tipos básicos da linguagem Python."
   ]
  },
  {
   "cell_type": "code",
   "execution_count": 9,
   "id": "f0ed496c",
   "metadata": {},
   "outputs": [],
   "source": [
    "# Criando um array inteiro com dtype explícito, o que não é necessário.\n",
    "int_array = np.array([ 1 , 2 , 3 ], dtype=np.int32) "
   ]
  },
  {
   "cell_type": "markdown",
   "id": "62adc950",
   "metadata": {},
   "source": [
    "### 1.3 Indexação em Arrays NumPy"
   ]
  },
  {
   "cell_type": "code",
   "execution_count": 10,
   "id": "49c5c787",
   "metadata": {},
   "outputs": [
    {
     "name": "stdout",
     "output_type": "stream",
     "text": [
      "[ 2  5 10 34 23  9 73 21  6]\n"
     ]
    }
   ],
   "source": [
    "print(array1)"
   ]
  },
  {
   "cell_type": "code",
   "execution_count": 11,
   "id": "77a32eb0",
   "metadata": {},
   "outputs": [
    {
     "data": {
      "text/plain": [
       "9"
      ]
     },
     "execution_count": 11,
     "metadata": {},
     "output_type": "execute_result"
    }
   ],
   "source": [
    "array1[5]"
   ]
  },
  {
   "cell_type": "code",
   "execution_count": 12,
   "id": "18a3622d",
   "metadata": {},
   "outputs": [
    {
     "data": {
      "text/plain": [
       "array([ 5, 10, 34])"
      ]
     },
     "execution_count": 12,
     "metadata": {},
     "output_type": "execute_result"
    }
   ],
   "source": [
    "# A indexação em Python, com qualquer interável, inicia com ZERO.\n",
    "\n",
    "# Também posso fazer o fatiamento:\n",
    "array1[1:4]"
   ]
  },
  {
   "cell_type": "code",
   "execution_count": 13,
   "id": "faa3fd91",
   "metadata": {},
   "outputs": [],
   "source": [
    "# criando uma lista de índices\n",
    "indices = [1, 3, 6, 8]"
   ]
  },
  {
   "cell_type": "code",
   "execution_count": 14,
   "id": "3934396f",
   "metadata": {},
   "outputs": [
    {
     "data": {
      "text/plain": [
       "array([ 5, 34, 73,  6])"
      ]
     },
     "execution_count": 14,
     "metadata": {},
     "output_type": "execute_result"
    }
   ],
   "source": [
    "# Imprimindo os elementos com os respectivos índices:\n",
    "array1[indices]"
   ]
  },
  {
   "cell_type": "code",
   "execution_count": 15,
   "id": "92c610fc",
   "metadata": {},
   "outputs": [],
   "source": [
    "# Criando uma máscara (no caso vamos criar uma máscara booleana para os elementos pares)\n",
    "mascara = (array1 % 2 == 0)"
   ]
  },
  {
   "cell_type": "code",
   "execution_count": 16,
   "id": "32fc4ffa",
   "metadata": {},
   "outputs": [
    {
     "data": {
      "text/plain": [
       "array([ True, False,  True,  True, False, False, False, False,  True])"
      ]
     },
     "execution_count": 16,
     "metadata": {},
     "output_type": "execute_result"
    }
   ],
   "source": [
    "# Vamos ver a máscara criada...\n",
    "mascara"
   ]
  },
  {
   "cell_type": "code",
   "execution_count": 17,
   "id": "0d215098",
   "metadata": {},
   "outputs": [
    {
     "data": {
      "text/plain": [
       "array([ 2, 10, 34,  6])"
      ]
     },
     "execution_count": 17,
     "metadata": {},
     "output_type": "execute_result"
    }
   ],
   "source": [
    "# Vamos utilizar a máscara criada como indexador. No caso, ele vai retornar os elementos cujos índices forem verdadeiros.\n",
    "# Ou seja... vai retornar todos os valore que são pares.\n",
    "array1[mascara]"
   ]
  },
  {
   "cell_type": "code",
   "execution_count": 18,
   "id": "cf18dd3f",
   "metadata": {},
   "outputs": [],
   "source": [
    "# Utilizamos a indexação também para fazer a substituição de valores...\n",
    "array1[0] = 200"
   ]
  },
  {
   "cell_type": "code",
   "execution_count": 19,
   "id": "bbab2b6d-8222-4b1a-9ce9-a595eb407ffb",
   "metadata": {},
   "outputs": [
    {
     "ename": "ValueError",
     "evalue": "invalid literal for int() with base 10: 'c'",
     "output_type": "error",
     "traceback": [
      "\u001b[1;31m---------------------------------------------------------------------------\u001b[0m",
      "\u001b[1;31mValueError\u001b[0m                                Traceback (most recent call last)",
      "Cell \u001b[1;32mIn[19], line 1\u001b[0m\n\u001b[1;32m----> 1\u001b[0m array1[\u001b[38;5;241m0\u001b[39m] \u001b[38;5;241m=\u001b[39m \u001b[38;5;124m'\u001b[39m\u001b[38;5;124mc\u001b[39m\u001b[38;5;124m'\u001b[39m\n",
      "\u001b[1;31mValueError\u001b[0m: invalid literal for int() with base 10: 'c'"
     ]
    }
   ],
   "source": [
    "array1[0] = 'c'"
   ]
  },
  {
   "cell_type": "code",
   "execution_count": null,
   "id": "84c52a0e",
   "metadata": {},
   "outputs": [],
   "source": [
    "array1"
   ]
  },
  {
   "cell_type": "markdown",
   "id": "553561ce",
   "metadata": {},
   "source": [
    "#### Atenção!!!\n",
    "Não é possível incluir elementos de outros tipos de dados.\n",
    "Arrays NumPy são todos do mesmo tipo de dado."
   ]
  },
  {
   "cell_type": "markdown",
   "id": "4399ab51",
   "metadata": {},
   "source": [
    "### 1.4 Funções/Métodos NumPy"
   ]
  },
  {
   "cell_type": "code",
   "execution_count": 20,
   "id": "94eb87af",
   "metadata": {},
   "outputs": [],
   "source": [
    "# A função array() cria um array NumPy\n",
    "array2 = np.array([1,2,3,4,5])"
   ]
  },
  {
   "cell_type": "code",
   "execution_count": 21,
   "id": "e6f35ddf",
   "metadata": {},
   "outputs": [
    {
     "name": "stdout",
     "output_type": "stream",
     "text": [
      "[1 2 3 4 5]\n"
     ]
    }
   ],
   "source": [
    "print(array2)"
   ]
  },
  {
   "cell_type": "code",
   "execution_count": 22,
   "id": "b21f248d",
   "metadata": {},
   "outputs": [
    {
     "data": {
      "text/plain": [
       "(5,)"
      ]
     },
     "execution_count": 22,
     "metadata": {},
     "output_type": "execute_result"
    }
   ],
   "source": [
    "array2.shape"
   ]
  },
  {
   "cell_type": "code",
   "execution_count": 23,
   "id": "1f548569",
   "metadata": {},
   "outputs": [
    {
     "ename": "SyntaxError",
     "evalue": "invalid syntax (2534955207.py, line 3)",
     "output_type": "error",
     "traceback": [
      "\u001b[1;36m  Cell \u001b[1;32mIn[23], line 3\u001b[1;36m\u001b[0m\n\u001b[1;33m    array2.\u001b[0m\n\u001b[1;37m           ^\u001b[0m\n\u001b[1;31mSyntaxError\u001b[0m\u001b[1;31m:\u001b[0m invalid syntax\n"
     ]
    }
   ],
   "source": [
    "# array2 agora é um objeto do tipo nd.array... e portanto possuem uma série de métodos associados a este objeto.\n",
    "# para visualizar os métodos... digite o nome... ponto... e tecle tab.\n",
    "array2."
   ]
  },
  {
   "cell_type": "code",
   "execution_count": 24,
   "id": "04bbc745",
   "metadata": {},
   "outputs": [
    {
     "data": {
      "text/plain": [
       "array([ 1,  3,  6, 10, 15])"
      ]
     },
     "execution_count": 24,
     "metadata": {},
     "output_type": "execute_result"
    }
   ],
   "source": [
    "#Usando os métodos do array NumPy...\n",
    "#cumsum --> soma acumulada\n",
    "array2.cumsum()"
   ]
  },
  {
   "cell_type": "code",
   "execution_count": 25,
   "id": "3a95ebcc",
   "metadata": {},
   "outputs": [
    {
     "data": {
      "text/plain": [
       "array([  1,   2,   6,  24, 120])"
      ]
     },
     "execution_count": 25,
     "metadata": {},
     "output_type": "execute_result"
    }
   ],
   "source": [
    "#cumprod --> produto acumulado\n",
    "array2.cumprod()"
   ]
  },
  {
   "cell_type": "code",
   "execution_count": 27,
   "id": "fc5210ce",
   "metadata": {},
   "outputs": [
    {
     "data": {
      "text/plain": [
       "<ufunc 'absolute'>"
      ]
     },
     "execution_count": 27,
     "metadata": {},
     "output_type": "execute_result"
    }
   ],
   "source": [
    "# Para verificar as funções disponíveis em NumPy... digite o alias (np) seguido de ponto e tab.\n",
    "np"
   ]
  },
  {
   "cell_type": "code",
   "execution_count": 28,
   "id": "2899c9c4",
   "metadata": {},
   "outputs": [],
   "source": [
    "# Função arange --> cria um array NumPy contendo uma progressão aritmética a partir de um intervalo: inicio, fim, passo.\n",
    "array3 = np.arange(0, 40, 4)"
   ]
  },
  {
   "cell_type": "code",
   "execution_count": 29,
   "id": "d59b78c5",
   "metadata": {},
   "outputs": [
    {
     "data": {
      "text/plain": [
       "array([ 0,  4,  8, 12, 16, 20, 24, 28, 32, 36])"
      ]
     },
     "execution_count": 29,
     "metadata": {},
     "output_type": "execute_result"
    }
   ],
   "source": [
    "array3"
   ]
  },
  {
   "cell_type": "code",
   "execution_count": 30,
   "id": "6125b309",
   "metadata": {},
   "outputs": [],
   "source": [
    "# Criar um array preenchido com zeros\n",
    "array4 = np.zeros(7)"
   ]
  },
  {
   "cell_type": "code",
   "execution_count": 31,
   "id": "db0a984f",
   "metadata": {},
   "outputs": [
    {
     "data": {
      "text/plain": [
       "array([0., 0., 0., 0., 0., 0., 0.])"
      ]
     },
     "execution_count": 31,
     "metadata": {},
     "output_type": "execute_result"
    }
   ],
   "source": [
    "array4"
   ]
  },
  {
   "cell_type": "code",
   "execution_count": 32,
   "id": "bc5462fa",
   "metadata": {},
   "outputs": [],
   "source": [
    "# Criar uma matriz diagonal... 1 nas posições em diagonal e zero nas demais posições\n",
    "array5 = np.eye(5)"
   ]
  },
  {
   "cell_type": "code",
   "execution_count": 33,
   "id": "b4018a5f",
   "metadata": {},
   "outputs": [
    {
     "name": "stdout",
     "output_type": "stream",
     "text": [
      "[[1. 0. 0. 0. 0.]\n",
      " [0. 1. 0. 0. 0.]\n",
      " [0. 0. 1. 0. 0.]\n",
      " [0. 0. 0. 1. 0.]\n",
      " [0. 0. 0. 0. 1.]]\n"
     ]
    }
   ],
   "source": [
    "print(array5)"
   ]
  },
  {
   "cell_type": "code",
   "execution_count": 34,
   "id": "45d8612b",
   "metadata": {},
   "outputs": [],
   "source": [
    "# Podemos passar como parâmetro um array numpy para que o mesmo seja utilizado como diagonal...\n",
    "array6 = np.diag(np.array([1,2,3,4]))"
   ]
  },
  {
   "cell_type": "code",
   "execution_count": 35,
   "id": "31b3af1f",
   "metadata": {},
   "outputs": [
    {
     "name": "stdout",
     "output_type": "stream",
     "text": [
      "[[1 0 0 0]\n",
      " [0 2 0 0]\n",
      " [0 0 3 0]\n",
      " [0 0 0 4]]\n"
     ]
    }
   ],
   "source": [
    "print(array6)"
   ]
  },
  {
   "cell_type": "code",
   "execution_count": 36,
   "id": "6ab3f1c7",
   "metadata": {},
   "outputs": [],
   "source": [
    "# Criação de um array numpy de valores booleanos\n",
    "array7 = np.array([True, False, False, True])"
   ]
  },
  {
   "cell_type": "code",
   "execution_count": 37,
   "id": "f7059bf2",
   "metadata": {},
   "outputs": [
    {
     "name": "stdout",
     "output_type": "stream",
     "text": [
      "[ True False False  True]\n"
     ]
    }
   ],
   "source": [
    "print(array7)"
   ]
  },
  {
   "cell_type": "code",
   "execution_count": 38,
   "id": "a52ce955",
   "metadata": {},
   "outputs": [],
   "source": [
    "# Criação de um array numpy de strings\n",
    "array8 = np.array(['pyPRO', 'Python', 'Profissional'])"
   ]
  },
  {
   "cell_type": "code",
   "execution_count": 39,
   "id": "3cae5a0e",
   "metadata": {},
   "outputs": [
    {
     "name": "stdout",
     "output_type": "stream",
     "text": [
      "['pyPRO' 'Python' 'Profissional']\n"
     ]
    }
   ],
   "source": [
    "print(array8)"
   ]
  },
  {
   "cell_type": "markdown",
   "id": "2f296fd0",
   "metadata": {},
   "source": [
    "A função linspace() do NumPy é usada para criar uma sequência de números igualmente espaçados dentro de um intervalo especificado. Igualmente distribuidos no intervalo especificado."
   ]
  },
  {
   "cell_type": "code",
   "execution_count": 40,
   "id": "abda2cae",
   "metadata": {},
   "outputs": [
    {
     "name": "stdout",
     "output_type": "stream",
     "text": [
      "[ 0.          0.20408163  0.40816327  0.6122449   0.81632653  1.02040816\n",
      "  1.2244898   1.42857143  1.63265306  1.83673469  2.04081633  2.24489796\n",
      "  2.44897959  2.65306122  2.85714286  3.06122449  3.26530612  3.46938776\n",
      "  3.67346939  3.87755102  4.08163265  4.28571429  4.48979592  4.69387755\n",
      "  4.89795918  5.10204082  5.30612245  5.51020408  5.71428571  5.91836735\n",
      "  6.12244898  6.32653061  6.53061224  6.73469388  6.93877551  7.14285714\n",
      "  7.34693878  7.55102041  7.75510204  7.95918367  8.16326531  8.36734694\n",
      "  8.57142857  8.7755102   8.97959184  9.18367347  9.3877551   9.59183673\n",
      "  9.79591837 10.        ]\n"
     ]
    }
   ],
   "source": [
    "print(np.linspace(0, 10))"
   ]
  },
  {
   "cell_type": "code",
   "execution_count": 41,
   "id": "11b72d8b",
   "metadata": {},
   "outputs": [
    {
     "name": "stdout",
     "output_type": "stream",
     "text": [
      "[ 0.          0.71428571  1.42857143  2.14285714  2.85714286  3.57142857\n",
      "  4.28571429  5.          5.71428571  6.42857143  7.14285714  7.85714286\n",
      "  8.57142857  9.28571429 10.        ]\n"
     ]
    }
   ],
   "source": [
    "print(np.linspace(0, 10, 15))"
   ]
  },
  {
   "cell_type": "markdown",
   "id": "01795ae4",
   "metadata": {},
   "source": [
    "Muito útil para inicializar uma matriz de pesos, em uma rede neural."
   ]
  },
  {
   "cell_type": "markdown",
   "id": "9243331e",
   "metadata": {},
   "source": [
    "A função logspace() é semelhante, só que cria uma sequencia de números espaçados logaritmicamente, dentro de um intervalo especificado."
   ]
  },
  {
   "cell_type": "code",
   "execution_count": 42,
   "id": "e6067b2d",
   "metadata": {},
   "outputs": [
    {
     "name": "stdout",
     "output_type": "stream",
     "text": [
      "[1.00000000e+00 5.17947468e+00 2.68269580e+01 1.38949549e+02\n",
      " 7.19685673e+02 3.72759372e+03 1.93069773e+04 1.00000000e+05\n",
      " 5.17947468e+05 2.68269580e+06 1.38949549e+07 7.19685673e+07\n",
      " 3.72759372e+08 1.93069773e+09 1.00000000e+10]\n"
     ]
    }
   ],
   "source": [
    "print(np.logspace(0, 10, 15))"
   ]
  },
  {
   "cell_type": "markdown",
   "id": "78408484",
   "metadata": {},
   "source": [
    "Outras funções/métodos Numpy:\n",
    "\n",
    "- **np.ones:** ones gera um array preenchido com aqueles do formato especificado.\n",
    "  - `np.ones(shape, dtype=None)`\n",
    "- **np.zeros_like:** cria um novo array preenchido com zeros, mas com a mesma forma e tipo de dados de um array existente.\n",
    "- **np.ones_like:** é semelhante a np.zeros_like, mas cria um novo array preenchido com uns em vez de zeros.\n"
   ]
  },
  {
   "cell_type": "code",
   "execution_count": 44,
   "id": "8badba70",
   "metadata": {},
   "outputs": [],
   "source": [
    "# Crie um array 3x3 preenchido com zeros\n",
    "zeros_arr = np.zeros(( 3 , 3 )) "
   ]
  },
  {
   "cell_type": "code",
   "execution_count": 45,
   "id": "259a594d",
   "metadata": {},
   "outputs": [
    {
     "name": "stdout",
     "output_type": "stream",
     "text": [
      "[[0. 0. 0.]\n",
      " [0. 0. 0.]\n",
      " [0. 0. 0.]]\n"
     ]
    }
   ],
   "source": [
    "print(zeros_arr)"
   ]
  },
  {
   "cell_type": "code",
   "execution_count": 49,
   "id": "0dea6e90",
   "metadata": {},
   "outputs": [],
   "source": [
    "# Crie uma nova matriz preenchida com zeros, \n",
    "# combinando a forma e o tipo de dados da matriz original\n",
    "zeros_array = np.zeros_like(zeros_arr) "
   ]
  },
  {
   "cell_type": "code",
   "execution_count": 50,
   "id": "01df3343",
   "metadata": {},
   "outputs": [
    {
     "name": "stdout",
     "output_type": "stream",
     "text": [
      "[[0. 0. 0.]\n",
      " [0. 0. 0.]\n",
      " [0. 0. 0.]]\n"
     ]
    }
   ],
   "source": [
    "print(zeros_array)"
   ]
  },
  {
   "cell_type": "code",
   "execution_count": 52,
   "id": "82c0c540",
   "metadata": {},
   "outputs": [],
   "source": [
    "# Crie uma nova matriz preenchido com uns, \n",
    "# correspondendo à forma e ao tipo de dados do array original\n",
    "ones_array = np.ones_like(zeros_arr)"
   ]
  },
  {
   "cell_type": "code",
   "execution_count": 53,
   "id": "4e571fc3",
   "metadata": {},
   "outputs": [
    {
     "name": "stdout",
     "output_type": "stream",
     "text": [
      "[[1. 1. 1.]\n",
      " [1. 1. 1.]\n",
      " [1. 1. 1.]]\n"
     ]
    }
   ],
   "source": [
    "print(ones_array)"
   ]
  },
  {
   "cell_type": "markdown",
   "id": "05583967",
   "metadata": {},
   "source": [
    "## FIM"
   ]
  }
 ],
 "metadata": {
  "kernelspec": {
   "display_name": "Python 3 (ipykernel)",
   "language": "python",
   "name": "python3"
  },
  "language_info": {
   "codemirror_mode": {
    "name": "ipython",
    "version": 3
   },
   "file_extension": ".py",
   "mimetype": "text/x-python",
   "name": "python",
   "nbconvert_exporter": "python",
   "pygments_lexer": "ipython3",
   "version": "3.10.12"
  }
 },
 "nbformat": 4,
 "nbformat_minor": 5
}
