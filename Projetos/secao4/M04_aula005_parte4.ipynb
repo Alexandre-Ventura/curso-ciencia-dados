{
 "cells": [
  {
   "cell_type": "markdown",
   "id": "9b398472",
   "metadata": {},
   "source": [
    "![title](imagens/M04-Numpy.jpg)"
   ]
  },
  {
   "cell_type": "markdown",
   "id": "099f68f2",
   "metadata": {},
   "source": [
    "## NumPy para limpeza de dados e análise estatística - Parte 4"
   ]
  },
  {
   "cell_type": "markdown",
   "id": "f7488ca4",
   "metadata": {},
   "source": [
    "- 4.1 Identificando valores ausentes\n",
    "- 4.2 Removendo linhas ou colunas com valores ausentes\n",
    "- 4.3 Transformação de dados\n",
    "- 4.4 Amostragem aleatória"
   ]
  },
  {
   "cell_type": "markdown",
   "id": "0fa4a795",
   "metadata": {},
   "source": [
    "Se você tem seus dados em um array numérico numpy e deseja observar valores ausentes e removê-los rapidamente, nesse caso, você não precisa converter o array em série pandas para lidar com isso! Podemos fazer isso dentro do próprio Numpy. Veja como fazemos isso."
   ]
  },
  {
   "cell_type": "markdown",
   "id": "bec66466",
   "metadata": {},
   "source": [
    "### 4.1 Identificando valores ausentes"
   ]
  },
  {
   "cell_type": "markdown",
   "id": "0636f32d",
   "metadata": {},
   "source": [
    "NumPy fornece funções para verificar valores ausentes em uma matriz numérica, representada como NaN (Not a Number)."
   ]
  },
  {
   "cell_type": "code",
   "execution_count": 1,
   "id": "f9823d70",
   "metadata": {},
   "outputs": [
    {
     "name": "stdout",
     "output_type": "stream",
     "text": [
      "[False False  True False  True False]\n"
     ]
    }
   ],
   "source": [
    "# Importando o pacote Numpy\n",
    "import numpy as np\n",
    "\n",
    "# Crie uma matriz NumPy com valores ausentes\n",
    "data = np.array([ 1 , 2 , np.nan, 4 , np.nan, 6 ]) \n",
    "\n",
    "# Verifique se há valores ausentes\n",
    "has_missing = np.isnan(data) \n",
    "print (has_missing)"
   ]
  },
  {
   "cell_type": "markdown",
   "id": "f42ab452",
   "metadata": {},
   "source": [
    "### 4.2 Removendo linhas ou colunas com valores ausentes"
   ]
  },
  {
   "cell_type": "markdown",
   "id": "06b39859",
   "metadata": {},
   "source": [
    "Podemos usar np.isnan para obter uma matriz booleana com True para os índices onde há um valor ausente. E quando passarmos para np.any, ele retornará um array 1D com True para o índice onde qualquer item de linha é True. E finalmente nós ~ (não) e passamos o booleano para a Matriz original, que removerá as linhas com valores ausentes."
   ]
  },
  {
   "cell_type": "code",
   "execution_count": 2,
   "id": "bd103f35",
   "metadata": {},
   "outputs": [
    {
     "name": "stdout",
     "output_type": "stream",
     "text": [
      "[[1. 2. 3.]\n",
      " [7. 8. 9.]]\n"
     ]
    }
   ],
   "source": [
    "# Criando uma matriz 2D com valores ausentes\n",
    "data = np.array([[1, 2, 3], [4, np.nan, 6], [7, 8, 9]]) \n",
    "\n",
    "# Removendo linhas com quaisquer valores ausentes\n",
    "cleaned_data = data[~np.any(np.isnan(data), axis= 0)] \n",
    "print(cleaned_data)"
   ]
  },
  {
   "cell_type": "markdown",
   "id": "d632ef72",
   "metadata": {},
   "source": [
    "### 4.3 Transformação de dados"
   ]
  },
  {
   "cell_type": "markdown",
   "id": "610d6fec",
   "metadata": {},
   "source": [
    "Numpy não possui os recursos de transformação de dados diretamente, mas podemos utilizar os recursos existentes para realizá-los.\n",
    "\n",
    "**Centralização de dados:** centralizar os dados envolve subtrair a média de cada ponto de dados. Isso geralmente é feito para remover o efeito de um termo constante ou para facilitar a convergência do modelo.\n"
   ]
  },
  {
   "cell_type": "code",
   "execution_count": 3,
   "id": "1e8eacbe",
   "metadata": {},
   "outputs": [
    {
     "name": "stdout",
     "output_type": "stream",
     "text": [
      "Média:  30.0\n",
      "Centralização:  [-20. -10.   0.  10.  20.]\n"
     ]
    }
   ],
   "source": [
    "# Dados de centralização de dados\n",
    "data = np.array([ 10, 20, 30, 40, 50]) \n",
    "media = np.mean(data) \n",
    "dados_centralizados = data - media \n",
    "print('Média: ', media)\n",
    "print('Centralização: ', dados_centralizados)"
   ]
  },
  {
   "cell_type": "markdown",
   "id": "e60dc47d",
   "metadata": {},
   "source": [
    "**Padronização:** Trata-se de transformar dados numéricos de forma que tenham média 0 e desvio padrão 1. Esse processo facilita a comparação e análise de dados em diferentes escalas.\n"
   ]
  },
  {
   "cell_type": "code",
   "execution_count": 4,
   "id": "d8615332",
   "metadata": {},
   "outputs": [
    {
     "name": "stdout",
     "output_type": "stream",
     "text": [
      "Desvio Padrão:  14.142135623730951\n",
      "Padronização:  [-1.41421356 -0.70710678  0.          0.70710678  1.41421356]\n"
     ]
    }
   ],
   "source": [
    "# Padronização\n",
    "std_dev = np.std(data)  #desvio padrão\n",
    "standardized_data = (data - media) / std_dev\n",
    "print('Desvio Padrão: ', std_dev)\n",
    "print(\"Padronização: \", standardized_data)"
   ]
  },
  {
   "cell_type": "markdown",
   "id": "f04905bc",
   "metadata": {},
   "source": [
    "\n",
    "**Transformação Log:** A transformação logarítmica é usada para tornar os dados mais simétricos ou para estabilizar a variância em casos de crescimento exponencial.\n"
   ]
  },
  {
   "cell_type": "code",
   "execution_count": 5,
   "id": "7d803ee4",
   "metadata": {},
   "outputs": [
    {
     "name": "stdout",
     "output_type": "stream",
     "text": [
      "[2.30258509 2.99573227 3.40119738 3.68887945 3.91202301]\n"
     ]
    }
   ],
   "source": [
    "# Transformação Log\n",
    "log_transformed_data = np.log(data)\n",
    "print(log_transformed_data)"
   ]
  },
  {
   "cell_type": "markdown",
   "id": "62adc950",
   "metadata": {},
   "source": [
    "### 4.4 Amostragem Aleatória"
   ]
  },
  {
   "cell_type": "markdown",
   "id": "9f966749",
   "metadata": {},
   "source": [
    "A amostragem aleatória envolve a seleção de um subconjunto de pontos de dados de um conjunto de dados maior. NumPy também fornece ferramentas para gerar números aleatórios a partir de várias distribuições de probabilidade.\n",
    "\n",
    "**Amostragem:**\n",
    "\n",
    "- Amostragem Aleatória Simples: Selecione uma amostra aleatória de um tamanho especificado de um conjunto de dados. Na amostragem sem reposição, cada item selecionado não é devolvido à população.\n",
    "- Amostragem Bootstrap: A amostragem Bootstrap envolve amostragem com substituição para criar vários conjuntos de dados. Isso é frequentemente usado para estimar a variabilidade das estatísticas.\n"
   ]
  },
  {
   "cell_type": "code",
   "execution_count": 6,
   "id": "49c5c787",
   "metadata": {},
   "outputs": [
    {
     "name": "stdout",
     "output_type": "stream",
     "text": [
      "[5 6 4 1 7]\n"
     ]
    }
   ],
   "source": [
    "# Amostragem aleatória simples sem dados de substituição \n",
    "data = np.array([ 1, 2, 3, 4, 5, 6, 7, 8, 9, 10]) \n",
    "random_samples = np.random.choice(data, size= 5 , replace=False) \n",
    "print(random_samples)"
   ]
  },
  {
   "cell_type": "code",
   "execution_count": 7,
   "id": "f362494e",
   "metadata": {},
   "outputs": [
    {
     "name": "stdout",
     "output_type": "stream",
     "text": [
      "Tamanho:  (1000, 10)\n",
      "[[ 8  9  6 ...  2  6  5]\n",
      " [ 2  1  9 ...  7  9  2]\n",
      " [ 7  1  6 ...  1  6  4]\n",
      " ...\n",
      " [ 9  2  7 ...  6  5  2]\n",
      " [ 3  2  1 ...  3  9  5]\n",
      " [ 9  9 10 ...  6  4  7]]\n"
     ]
    }
   ],
   "source": [
    "# Amostragem de Bootstrap\n",
    "num_samples = 1000\n",
    "bootstrap_samples = np.random.choice(data, size=(num_samples, len(data)), replace=True)\n",
    "print('Tamanho: ', bootstrap_samples.shape)\n",
    "print(bootstrap_samples)"
   ]
  },
  {
   "cell_type": "markdown",
   "id": "ec153d76",
   "metadata": {},
   "source": [
    "#### Outras funções:\n",
    "\n",
    "**Gerando números aleatórios**: Aqui estão algumas maneiras de gerar números aleatórios com a distribuição desejada.\n",
    "\n",
    "- Inteiros: Gerar um número inteiro aleatório dentro de uma faixa especificada usando `np.random.randint()`\n",
    "- Distribuição Uniforme: Gerar valores aleatórios de uma distribuição uniforme usando `np.random.uniform()`\n",
    "- Distribuição Normal: Amostrar valores aleatórios de uma distribuição normal usando `np.random.normal()`\n",
    "- Distribuição Binomial: Simular experimentos binomiais com `np.random.binomial()`\n",
    "- Distribuição de Poisson: Modelar eventos raros com a distribuição de Poisson usando `np.random.poisson()`\n"
   ]
  },
  {
   "cell_type": "markdown",
   "id": "4399ab51",
   "metadata": {},
   "source": [
    "## FIM"
   ]
  }
 ],
 "metadata": {
  "kernelspec": {
   "display_name": "Python 3 (ipykernel)",
   "language": "python",
   "name": "python3"
  },
  "language_info": {
   "codemirror_mode": {
    "name": "ipython",
    "version": 3
   },
   "file_extension": ".py",
   "mimetype": "text/x-python",
   "name": "python",
   "nbconvert_exporter": "python",
   "pygments_lexer": "ipython3",
   "version": "3.11.7"
  }
 },
 "nbformat": 4,
 "nbformat_minor": 5
}
