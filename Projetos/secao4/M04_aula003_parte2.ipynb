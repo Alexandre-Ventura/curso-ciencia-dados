{
 "cells": [
  {
   "cell_type": "markdown",
   "id": "9b398472",
   "metadata": {},
   "source": [
    "![title](imagens/M04-Numpy.jpg)"
   ]
  },
  {
   "cell_type": "markdown",
   "id": "fb8a80d0",
   "metadata": {},
   "source": [
    "https://medium.com/p/392cdbe39e84"
   ]
  },
  {
   "cell_type": "markdown",
   "id": "099f68f2",
   "metadata": {},
   "source": [
    "## Numpy - Operações com Arrays - Parte 2"
   ]
  },
  {
   "cell_type": "markdown",
   "id": "b97785f5",
   "metadata": {},
   "source": [
    "\n",
    "- 2.1 Operações entre elementos\n",
    "- 2.2 Anexar e excluir\n",
    "- 2.3 Funções de agregação e ufuncs\n",
    "- 2.4 Remodelando arrays\n"
   ]
  },
  {
   "cell_type": "markdown",
   "id": "bec66466",
   "metadata": {},
   "source": [
    "### 2.1 Operações elementares"
   ]
  },
  {
   "cell_type": "markdown",
   "id": "8ba06872",
   "metadata": {},
   "source": [
    "As operações elemento a elemento aplicam uma determinada operação a cada elemento da matriz de forma independente. Você também pode realizar adição, subtração, até multiplicação e divisão nas matrizes.\n",
    "\n",
    "**Transmissão**: NumPy permite operações entre arrays de diferentes formatos e tamanhos, o que é chamado de transmissão. A transmissão ajusta automaticamente o formato do array menor para corresponder ao array maior, tornando-o compatível com operações elemento a elemento."
   ]
  },
  {
   "cell_type": "code",
   "execution_count": 1,
   "id": "2365f164",
   "metadata": {},
   "outputs": [],
   "source": [
    "#importando o NumPy\n",
    "import numpy as np"
   ]
  },
  {
   "cell_type": "code",
   "execution_count": 2,
   "id": "bd103f35",
   "metadata": {},
   "outputs": [],
   "source": [
    "# Criando vetores NumPy 1D\n",
    "arr1 = np.array([ 1 , 2 , 3 ]) \n",
    "arr2 = np.array([ 4 , 5 , 6 ]) \n",
    "escalar = 2 "
   ]
  },
  {
   "cell_type": "code",
   "execution_count": 3,
   "id": "8f5e8a29",
   "metadata": {},
   "outputs": [
    {
     "name": "stdout",
     "output_type": "stream",
     "text": [
      "[5 7 9]\n"
     ]
    }
   ],
   "source": [
    "# Adição\n",
    "result_add = arr1 + arr2\n",
    "print(result_add)"
   ]
  },
  {
   "cell_type": "code",
   "execution_count": 4,
   "id": "52add67f",
   "metadata": {},
   "outputs": [
    {
     "name": "stdout",
     "output_type": "stream",
     "text": [
      "[ 4 10 18]\n"
     ]
    }
   ],
   "source": [
    "# Multiplicação, da mesma forma subração e divisão também. \n",
    "result_mul = arr1 * arr2  \n",
    "print(result_mul)"
   ]
  },
  {
   "cell_type": "code",
   "execution_count": 5,
   "id": "66e4d1f8",
   "metadata": {},
   "outputs": [],
   "source": [
    "# Criando vetores NumPy 2D (matrizes)\n",
    "matriz1 = np.array([[ 1 , 2 ], [ 3 , 4 ]]) \n",
    "matriz2 = np.array([[ 5 , 6 ] , [ 7 , 8 ]]) "
   ]
  },
  {
   "cell_type": "code",
   "execution_count": 6,
   "id": "8118d157",
   "metadata": {},
   "outputs": [
    {
     "name": "stdout",
     "output_type": "stream",
     "text": [
      "[[ 5 12]\n",
      " [21 32]]\n"
     ]
    }
   ],
   "source": [
    "# Multiplicação (por elemento, não multiplicação de matriz)\n",
    "result_mul = matriz1 * matriz2  \n",
    "print(result_mul)"
   ]
  },
  {
   "cell_type": "code",
   "execution_count": 7,
   "id": "bb482588",
   "metadata": {},
   "outputs": [
    {
     "name": "stdout",
     "output_type": "stream",
     "text": [
      "[[19 22]\n",
      " [43 50]]\n"
     ]
    }
   ],
   "source": [
    "# Multiplicação de matriz real usando np.dot\n",
    "matriz_multiplicacao = np.dot(matriz1,matriz2) \n",
    "print(matriz_multiplicacao)"
   ]
  },
  {
   "cell_type": "code",
   "execution_count": 8,
   "id": "bc47fa9d",
   "metadata": {},
   "outputs": [
    {
     "name": "stdout",
     "output_type": "stream",
     "text": [
      "[2 4 6]\n"
     ]
    }
   ],
   "source": [
    "# Broadcasting: Multiplique o array por um resultado escalar\n",
    "result = arr1 * escalar \n",
    "print(result)"
   ]
  },
  {
   "cell_type": "markdown",
   "id": "d632ef72",
   "metadata": {},
   "source": [
    "### 2.2 Anexar e Excluir"
   ]
  },
  {
   "cell_type": "markdown",
   "id": "db605856",
   "metadata": {},
   "source": [
    "Para acrescentar matrizes no NumPy, você pode usar a `numpy.append()` função. Esta função permite adicionar elementos ao final de um array existente ao longo de um eixo especificado.\n",
    "\n",
    "Tenha em mente que `np.append()` retorna um novo array com os elementos anexados; portanto, não modifica os arrays originais. Se quiser modificar uma matriz existente no local, você pode usar métodos como `np.concatenate()` ou usar instruções de atribuição.\n",
    "\n",
    "Podemos usar `np.delete` para remover os itens de um array.\n"
   ]
  },
  {
   "cell_type": "code",
   "execution_count": 9,
   "id": "dde63611",
   "metadata": {},
   "outputs": [
    {
     "name": "stdout",
     "output_type": "stream",
     "text": [
      "[1 2 3]\n"
     ]
    }
   ],
   "source": [
    "# Crie um array\n",
    "original_array = np.array([ 1 , 2 , 3 ]) \n",
    "print(original_array)"
   ]
  },
  {
   "cell_type": "code",
   "execution_count": 10,
   "id": "9175492e",
   "metadata": {},
   "outputs": [
    {
     "name": "stdout",
     "output_type": "stream",
     "text": [
      "[1 2 3 4 5 6]\n"
     ]
    }
   ],
   "source": [
    "# Anexar elementos no local\n",
    "original_array = np.append(original_array, [ 4 , 5 , 6 ]) \n",
    "print(original_array)"
   ]
  },
  {
   "cell_type": "code",
   "execution_count": 11,
   "id": "2fa43a91",
   "metadata": {},
   "outputs": [
    {
     "name": "stdout",
     "output_type": "stream",
     "text": [
      "[1 2 3 4 5]\n"
     ]
    }
   ],
   "source": [
    "# Crie um array NumPy\n",
    "arr = np.array ([ 1 , 2 , 3 , 4 , 5 ]) \n",
    "print(arr)"
   ]
  },
  {
   "cell_type": "code",
   "execution_count": 12,
   "id": "cb22759e",
   "metadata": {},
   "outputs": [
    {
     "name": "stdout",
     "output_type": "stream",
     "text": [
      "[1 2 4 5]\n"
     ]
    }
   ],
   "source": [
    "# Remova o item no índice 2 (valor 3)\n",
    "new_arr = np.delete(arr, 2 ) \n",
    "print(new_arr)"
   ]
  },
  {
   "cell_type": "code",
   "execution_count": 13,
   "id": "7afdb76f",
   "metadata": {},
   "outputs": [
    {
     "name": "stdout",
     "output_type": "stream",
     "text": [
      "[[1 2 3]\n",
      " [4 5 6]\n",
      " [7 8 9]]\n"
     ]
    }
   ],
   "source": [
    "# Crie um array NumPy 2D\n",
    "arr = np.array([[ 1 , 2 , 3 ], [ 4 , 5 , 6 ], [ 7 , 8 , 9 ]]) \n",
    "print(arr)"
   ]
  },
  {
   "cell_type": "code",
   "execution_count": 14,
   "id": "0ce2281a",
   "metadata": {},
   "outputs": [
    {
     "name": "stdout",
     "output_type": "stream",
     "text": [
      "[[1 2 3]\n",
      " [7 8 9]]\n"
     ]
    }
   ],
   "source": [
    "# Remova a segunda linha (índice 1)\n",
    "new_arr = np.delete(arr, 1 , axis= 0 )\n",
    "print(new_arr)"
   ]
  },
  {
   "cell_type": "markdown",
   "id": "62adc950",
   "metadata": {},
   "source": [
    "### 2.3 Funções de Agregação de ufuncs (funções universais)"
   ]
  },
  {
   "cell_type": "markdown",
   "id": "9542334a",
   "metadata": {},
   "source": [
    "NumPy fornece funções integradas para operações de agregação comuns em matrizes, incluindo média, soma, mínimo, máximo, etc. NumPy também fornece funções universais (ufuncs) que operam em elementos em matrizes, incluindo funções matemáticas, trigonométricas e exponenciais."
   ]
  },
  {
   "cell_type": "code",
   "execution_count": 15,
   "id": "41eeec83",
   "metadata": {},
   "outputs": [
    {
     "name": "stdout",
     "output_type": "stream",
     "text": [
      "[1 2 3 4 5]\n"
     ]
    }
   ],
   "source": [
    "# Criando um array NumPy\n",
    "arr = np.array([ 1 , 2 , 3 , 4 , 5 ]) \n",
    "print(arr)"
   ]
  },
  {
   "cell_type": "code",
   "execution_count": 16,
   "id": "ba0d1b9f",
   "metadata": {},
   "outputs": [
    {
     "name": "stdout",
     "output_type": "stream",
     "text": [
      "Valor médio:  3.0\n",
      "Mediana:  3.0\n",
      "Variância:  2.0\n",
      "Desvio Padrão:  1.4142135623730951\n"
     ]
    }
   ],
   "source": [
    "# Funções de agregação\n",
    "mean_value = np.mean(arr)        # média\n",
    "median_value = np.median(arr)    # mediana\n",
    "variance = np.var(arr)           # variância\n",
    "standard_deviation = np.std(arr) # desvio padrão\n",
    "print('Valor médio: ', mean_value)\n",
    "print('Mediana: ', median_value)\n",
    "print('Variância: ', variance)\n",
    "print('Desvio Padrão: ', standard_deviation)"
   ]
  },
  {
   "cell_type": "code",
   "execution_count": 17,
   "id": "212da4fc",
   "metadata": {},
   "outputs": [
    {
     "name": "stdout",
     "output_type": "stream",
     "text": [
      "Soma: 15\n",
      "Mínimo: 1\n",
      "Máximo: 5\n"
     ]
    }
   ],
   "source": [
    "sum_value = np.sum(arr)    \n",
    "min_value = np.min(arr)    \n",
    "max_value = np.max(arr)    \n",
    "print('Soma:', sum_value)\n",
    "print('Mínimo:', min_value)\n",
    "print('Máximo:', max_value)"
   ]
  },
  {
   "cell_type": "code",
   "execution_count": 18,
   "id": "7e430ae3",
   "metadata": {},
   "outputs": [
    {
     "name": "stdout",
     "output_type": "stream",
     "text": [
      "Raiz quadrada:  [1.         1.41421356 1.73205081 2.         2.23606798]\n",
      "Exponencial..:  [  2.71828183   7.3890561   20.08553692  54.59815003 148.4131591 ]\n"
     ]
    }
   ],
   "source": [
    "# Funções universais\n",
    "sqrt_arr = np.sqrt(arr)\n",
    "exp_arr = np.exp(arr)\n",
    "print('Raiz quadrada: ', sqrt_arr)\n",
    "print('Exponencial..: ', exp_arr)"
   ]
  },
  {
   "cell_type": "markdown",
   "id": "4399ab51",
   "metadata": {},
   "source": [
    "### 2.4 Remodelando Arrays"
   ]
  },
  {
   "cell_type": "markdown",
   "id": "709a1a16",
   "metadata": {},
   "source": [
    "Você pode alterar a forma de um array sem alterar seus dados usando o método `reshape`, por exemplo, para achatar um array (convertê-lo em um array 1D) ou alterá-lo para um array de dimensão superior (por exemplo, de 1D para 2D ou de 2D para 3D).\n",
    "\n",
    "O método `reshape` pode ser particularmente útil quando você precisa preparar dados para diversas operações, como multiplicação de matrizes, convolução ou exibição de imagens.\n",
    "\n",
    "Para remodelar o método, você pode passar a forma do resultado esperado que deseja. O número total de elementos na matriz original deve corresponder ao número total de elementos na nova forma. Em outras palavras, o produto das dimensões na nova forma deve ser igual ao número total de elementos na matriz original. NumPy gerará um erro se esta condição não for atendida.\n"
   ]
  },
  {
   "cell_type": "code",
   "execution_count": 19,
   "id": "39cc6a8d",
   "metadata": {},
   "outputs": [
    {
     "name": "stdout",
     "output_type": "stream",
     "text": [
      "[[1 2 3]\n",
      " [4 5 6]]\n"
     ]
    }
   ],
   "source": [
    "# Criando array 2D\n",
    "arr_2d = np.array([[ 1 , 2 , 3 ], [ 4 , 5 , 6 ]]) \n",
    "print(arr_2d)"
   ]
  },
  {
   "cell_type": "code",
   "execution_count": 20,
   "id": "53acbd34",
   "metadata": {},
   "outputs": [
    {
     "name": "stdout",
     "output_type": "stream",
     "text": [
      "[1 2 3 4 5 6]\n"
     ]
    }
   ],
   "source": [
    "# Aqui como estamos passando apenas 6, ele irá converter o array 2d em 1d array \n",
    "# com 6 elementos, você não pode passar nada além de 6, \n",
    "# pois não corresponde ao array original! \n",
    "arr_1d = arr_2d.reshape( 6 )\n",
    "print(arr_1d)"
   ]
  },
  {
   "cell_type": "code",
   "execution_count": 21,
   "id": "dba3b5a3",
   "metadata": {},
   "outputs": [
    {
     "name": "stdout",
     "output_type": "stream",
     "text": [
      "[1 2 3 4 5 6]\n"
     ]
    }
   ],
   "source": [
    "# Criando array 1D\n",
    "arr_1d = np.array([ 1 , 2 , 3 , 4 , 5 , 6 ]) \n",
    "print(arr_1d)"
   ]
  },
  {
   "cell_type": "code",
   "execution_count": 22,
   "id": "b9e874d2",
   "metadata": {},
   "outputs": [
    {
     "name": "stdout",
     "output_type": "stream",
     "text": [
      "[[1 2 3]\n",
      " [4 5 6]]\n"
     ]
    }
   ],
   "source": [
    "# convertendo array 1D em 2D\n",
    "arr_2d = arr_1d.reshape( 2 , 3 )\n",
    "print(arr_2d)"
   ]
  },
  {
   "cell_type": "markdown",
   "id": "ed3de018",
   "metadata": {},
   "source": [
    "**Entendendo como usar -1**: Simplificando, você pode usar -1 como espaço reservado em qualquer dimensão da nova forma e o NumPy calculará automaticamente o tamanho dessa dimensão."
   ]
  },
  {
   "cell_type": "code",
   "execution_count": 1,
   "id": "54c4d78a",
   "metadata": {},
   "outputs": [
    {
     "ename": "ModuleNotFoundError",
     "evalue": "No module named 'skimage'",
     "output_type": "error",
     "traceback": [
      "\u001b[0;31m---------------------------------------------------------------------------\u001b[0m",
      "\u001b[0;31mModuleNotFoundError\u001b[0m                       Traceback (most recent call last)",
      "Cell \u001b[0;32mIn[1], line 6\u001b[0m\n\u001b[1;32m      1\u001b[0m \u001b[38;5;66;03m# Importando imagens de teste e conjuntos de dados.\u001b[39;00m\n\u001b[1;32m      2\u001b[0m \u001b[38;5;66;03m# O módulo 'data' é um conjunto selecionado de imagens de propósito geral e científicas \u001b[39;00m\n\u001b[1;32m      3\u001b[0m \u001b[38;5;66;03m# usadas em testes, exemplos e documentação.\u001b[39;00m\n\u001b[1;32m      4\u001b[0m \u001b[38;5;66;03m# mais informações em: https://scikit-image.org/docs/stable/api/skimage.data.html\u001b[39;00m\n\u001b[0;32m----> 6\u001b[0m \u001b[38;5;28;01mfrom\u001b[39;00m \u001b[38;5;21;01mskimage\u001b[39;00m \u001b[38;5;28;01mimport\u001b[39;00m data \n\u001b[1;32m      8\u001b[0m \u001b[38;5;66;03m# Carrega uma amostra de imagem em tons de cinza\u001b[39;00m\n\u001b[1;32m      9\u001b[0m image \u001b[38;5;241m=\u001b[39m data\u001b[38;5;241m.\u001b[39mcoins() \n",
      "\u001b[0;31mModuleNotFoundError\u001b[0m: No module named 'skimage'"
     ]
    }
   ],
   "source": [
    "# Importando imagens de teste e conjuntos de dados.\n",
    "# O módulo 'data' é um conjunto selecionado de imagens de propósito geral e científicas \n",
    "# usadas em testes, exemplos e documentação.\n",
    "# mais informações em: https://scikit-image.org/docs/stable/api/skimage.data.html\n",
    "\n",
    "from skimage import data \n",
    "\n",
    "# Carrega uma amostra de imagem em tons de cinza\n",
    "image = data.coins() \n",
    "\n",
    "# Forma original da imagem \n",
    "print(\"Forma original da imagem:\", image.shape) "
   ]
  },
  {
   "cell_type": "code",
   "execution_count": 4,
   "id": "6e0d02b4",
   "metadata": {},
   "outputs": [
    {
     "ename": "NameError",
     "evalue": "name 'image' is not defined",
     "output_type": "error",
     "traceback": [
      "\u001b[0;31m---------------------------------------------------------------------------\u001b[0m",
      "\u001b[0;31mNameError\u001b[0m                                 Traceback (most recent call last)",
      "Cell \u001b[0;32mIn[4], line 5\u001b[0m\n\u001b[1;32m      1\u001b[0m \u001b[38;5;66;03m# Então, se você deseja convertê-lo para 1D, você deve passar 116352 (303*384) \u001b[39;00m\n\u001b[1;32m      2\u001b[0m \u001b[38;5;66;03m# Em vez disso, se você não quiser calcular isso e deixar o numpy lidar com isso, \u001b[39;00m\n\u001b[1;32m      3\u001b[0m \u001b[38;5;66;03m# Nesses casos, você pode simplesmente passar -1, e ele calculará 116352\u001b[39;00m\n\u001b[0;32m----> 5\u001b[0m reformed_image \u001b[38;5;241m=\u001b[39m \u001b[43mimage\u001b[49m\u001b[38;5;241m.\u001b[39mreshape(\u001b[38;5;241m-\u001b[39m\u001b[38;5;241m1\u001b[39m) \n\u001b[1;32m      6\u001b[0m \u001b[38;5;28mprint\u001b[39m(\u001b[38;5;124m'\u001b[39m\u001b[38;5;124mNova forma da imagem: \u001b[39m\u001b[38;5;124m'\u001b[39m, reformed_image\u001b[38;5;241m.\u001b[39mshape)\n",
      "\u001b[0;31mNameError\u001b[0m: name 'image' is not defined"
     ]
    }
   ],
   "source": [
    "# Então, se você deseja convertê-lo para 1D, você deve passar 116352 (303*384) \n",
    "# Em vez disso, se você não quiser calcular isso e deixar o numpy lidar com isso, \n",
    "# Nesses casos, você pode simplesmente passar -1, e ele calculará 116352\n",
    "\n",
    "reformed_image = image.reshape(-1) \n",
    "print('Nova forma da imagem: ', reformed_image.shape)"
   ]
  },
  {
   "cell_type": "code",
   "execution_count": 25,
   "id": "9ddab6bc",
   "metadata": {},
   "outputs": [
    {
     "name": "stdout",
     "output_type": "stream",
     "text": [
      "(12,)\n"
     ]
    }
   ],
   "source": [
    "# Criando um array 1D com 12 elementos\n",
    "arr = np.arange(12) \n",
    "print(arr.shape)"
   ]
  },
  {
   "cell_type": "code",
   "execution_count": 26,
   "id": "c020b31d",
   "metadata": {},
   "outputs": [
    {
     "name": "stdout",
     "output_type": "stream",
     "text": [
      "(4, 3)\n"
     ]
    }
   ],
   "source": [
    "# Remodelando em um array 2D com um número desconhecido de colunas (-1)\n",
    "reformed_arr = arr.reshape(4, -1)\n",
    "print(reformed_arr.shape)"
   ]
  },
  {
   "cell_type": "markdown",
   "id": "fc1734f6",
   "metadata": {},
   "source": [
    "## Fim"
   ]
  }
 ],
 "metadata": {
  "kernelspec": {
   "display_name": "Python 3 (ipykernel)",
   "language": "python",
   "name": "python3"
  },
  "language_info": {
   "codemirror_mode": {
    "name": "ipython",
    "version": 3
   },
   "file_extension": ".py",
   "mimetype": "text/x-python",
   "name": "python",
   "nbconvert_exporter": "python",
   "pygments_lexer": "ipython3",
   "version": "3.10.12"
  }
 },
 "nbformat": 4,
 "nbformat_minor": 5
}
