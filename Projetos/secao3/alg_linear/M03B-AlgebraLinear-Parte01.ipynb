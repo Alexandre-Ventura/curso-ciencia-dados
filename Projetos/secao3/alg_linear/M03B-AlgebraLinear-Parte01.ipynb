{
 "cells": [
  {
   "cell_type": "markdown",
   "id": "747fd2f8",
   "metadata": {},
   "source": [
    "![title](imagens/M03-NocoesAlgebraLinear.jpg)"
   ]
  },
  {
   "cell_type": "markdown",
   "id": "f11ff232",
   "metadata": {},
   "source": [
    "## Noções de Matemática - Álgebra Linear - Parte 1"
   ]
  },
  {
   "cell_type": "markdown",
   "id": "7f6ac2cd",
   "metadata": {},
   "source": [
    "**1. Introdução à Álgebra Linear**\n",
    "1.1 O que é álgebra linear e sua importância em ciência de dados\n",
    "1.2 Conceitos básicos: vetores, matrizes e operações fundamentais\n",
    "1.3 Representação gráfica de vetores e matrizes\n",
    "1.4 Resolução de Equações lineares com Matrizes e Vetores\n",
    "\n",
    "**2. Vetores**\n",
    "2.1 Definição e propriedades de vetores\n",
    "2.2 Operações com vetores: adição, subtração e multiplicação por escalar\n",
    "2.3 Produto escalar e suas aplicações\n",
    "2.4 Norma de um vetor e distância euclidiana\n",
    "2.5 Vetores ortogonais e produto vetorial\n",
    "\n",
    "**3. Matrizes**\n",
    "3.1 Definição e propriedades de matrizes\n",
    "3.2 Operações com matrizes: adição, subtração e multiplicação por escalar\n",
    "3.3 Produto matricial e suas aplicações\n",
    "3.4 Matriz transposta e matriz adjunta\n",
    "3.5 Determinante de uma matriz e sua importância\n",
    "3.6 Matriz inversa e sua aplicação na resolução de sistemas de equações lineares\n",
    "\n",
    "**4. Álgebra Linear em Ciência de Dados**\n",
    "4.1 Aplicações de álgebra linear na ciência de dados\n",
    "4.2 Representação de dados usando matrizes\n",
    "4.3 Redução de dimensionalidade e decomposição SVD (Singular Value Decomposition)\n",
    "4.4 Análise de componentes principais (PCA) e suas aplicações\n",
    "4.5 Regressão linear e ajuste de curvas\n",
    "\n",
    "**5. Mais Exemplos de Aplicação da Álgebra Linear**\n",
    "5.1 Exemplos práticos de aplicação de álgebra linear em ciência de dados\n",
    "5.2 Implementação de algoritmos e técnicas de álgebra linear em projetos de ciência de dados\n",
    "5.3 Análise exploratória de dados, regressão linear e classificação com base em álgebra linear\n",
    "\n",
    "Vamos começar com uma introdução a Álgebra Linear..."
   ]
  },
  {
   "cell_type": "markdown",
   "id": "c8f7ed12",
   "metadata": {},
   "source": [
    "## 1. Introdução a Álgebra Linear"
   ]
  },
  {
   "cell_type": "markdown",
   "id": "6b3c713a",
   "metadata": {},
   "source": [
    "A álgebra linear é um ramo da matemática que estuda vetores, espaços vetoriais e transformações lineares. Ela desempenha um papel fundamental em ciência de dados, fornecendo ferramentas para representar, analisar e resolver problemas complexos. A álgebra linear é usada em uma variedade de áreas, incluindo estatística, aprendizado de máquina, processamento de imagens, análise de redes e muito mais."
   ]
  },
  {
   "cell_type": "markdown",
   "id": "26ef102c",
   "metadata": {},
   "source": [
    "**1.1. O que é álgebra linear e sua importância em ciência de dados**\n",
    "\n",
    "A álgebra linear trata de operações e estruturas matemáticas relacionadas a vetores e matrizes. Ela permite modelar problemas do mundo real e resolver equações que envolvem múltiplas variáveis. Em ciência de dados, a álgebra linear é amplamente utilizada para:\n",
    "\n",
    "- Representar e manipular dados em formato vetorial ou matricial.\n",
    "- Realizar operações matriciais para analisar e transformar dados.\n",
    "- Resolver sistemas de equações lineares.\n",
    "- Reduzir a dimensionalidade dos dados.\n",
    "- Realizar ajuste de modelos e aprendizado de máquina.\n",
    "\n",
    "A compreensão dos conceitos e técnicas da álgebra linear é essencial para um cientista de dados, pois ela fornece uma base sólida para análise e manipulação de dados de alta dimensão."
   ]
  },
  {
   "cell_type": "markdown",
   "id": "5608610b",
   "metadata": {},
   "source": [
    "**1.2. Conceitos básicos: vetores, matrizes e operações fundamentais**\n",
    "\n",
    "Vamos começar com os conceitos básicos de vetores, matrizes e suas operações fundamentais. Utilizaremos a biblioteca NumPy para trabalhar com essas estruturas de dados.\n",
    "\n",
    "\n",
    "**Vetores:**\n",
    "\n",
    "Um vetor é uma sequência de valores organizados em uma única dimensão. Vamos criar um vetor e realizar algumas operações básicas:\n"
   ]
  },
  {
   "cell_type": "code",
   "execution_count": 1,
   "id": "15b24955",
   "metadata": {},
   "outputs": [
    {
     "name": "stdout",
     "output_type": "stream",
     "text": [
      "Vetor v: [1 2 3]\n",
      "Tamanho do vetor v: 3\n",
      "Primeiro elemento do vetor v: 1\n",
      "Soma de vetores v + v2: [5 7 9]\n",
      "Subtração de vetores v - v2: [-3 -3 -3]\n",
      "Multiplicação escalar de v por 2: [2 4 6]\n"
     ]
    }
   ],
   "source": [
    "import numpy as np\n",
    "\n",
    "# Criando um vetor\n",
    "v = np.array([1, 2, 3])\n",
    "print(\"Vetor v:\", v)\n",
    "\n",
    "# Tamanho do vetor\n",
    "size = len(v)\n",
    "print(\"Tamanho do vetor v:\", size)\n",
    "\n",
    "# Acessando elementos do vetor\n",
    "element = v[0]\n",
    "print(\"Primeiro elemento do vetor v:\", element)\n",
    "\n",
    "# Operações com vetores\n",
    "v2 = np.array([4, 5, 6])\n",
    "v_sum = v + v2\n",
    "v_diff = v - v2\n",
    "v_scalar_mul = 2 * v\n",
    "print(\"Soma de vetores v + v2:\", v_sum)\n",
    "print(\"Subtração de vetores v - v2:\", v_diff)\n",
    "print(\"Multiplicação escalar de v por 2:\", v_scalar_mul)"
   ]
  },
  {
   "cell_type": "markdown",
   "id": "b407ca5b",
   "metadata": {},
   "source": [
    "**Matrizes:**\n",
    "\n",
    "Uma matriz é uma tabela bidimensional de números organizados em linhas e colunas. Vamos criar uma matriz e realizar algumas operações básicas:"
   ]
  },
  {
   "cell_type": "code",
   "execution_count": 2,
   "id": "8ee0b82f",
   "metadata": {},
   "outputs": [
    {
     "name": "stdout",
     "output_type": "stream",
     "text": [
      "Matriz m:\n",
      "[[1 2 3]\n",
      " [4 5 6]]\n",
      "Dimensões da matriz m: (2, 3)\n",
      "Elemento na posição (0, 1) da matriz m: 2\n",
      "Soma de matrizes m + m2:\n",
      "[[ 8 10 12]\n",
      " [14 16 18]]\n",
      "Subtração de matrizes m - m2:\n",
      "[[-6 -6 -6]\n",
      " [-6 -6 -6]]\n",
      "Multiplicação escalar de m por 2:\n",
      "[[ 2  4  6]\n",
      " [ 8 10 12]]\n"
     ]
    }
   ],
   "source": [
    "import numpy as np\n",
    "\n",
    "# Criando uma matriz\n",
    "m = np.array([[1, 2, 3], [4, 5, 6]])\n",
    "print(\"Matriz m:\")\n",
    "print(m)\n",
    "\n",
    "# Dimensões da matriz\n",
    "dim = m.shape\n",
    "print(\"Dimensões da matriz m:\", dim)\n",
    "\n",
    "# Acessando elementos da matriz\n",
    "element = m[0, 1]\n",
    "print(\"Elemento na posição (0, 1) da matriz m:\", element)\n",
    "\n",
    "# Operações com matrizes\n",
    "m2 = np.array([[7, 8, 9], [10, 11, 12]])\n",
    "m_sum = m + m2\n",
    "m_diff = m - m2\n",
    "m_scalar_mul = 2 * m\n",
    "print(\"Soma de matrizes m + m2:\")\n",
    "print(m_sum)\n",
    "print(\"Subtração de matrizes m - m2:\")\n",
    "print(m_diff)\n",
    "print(\"Multiplicação escalar de m por 2:\")\n",
    "print(m_scalar_mul)"
   ]
  },
  {
   "cell_type": "markdown",
   "id": "b66a608d",
   "metadata": {},
   "source": [
    "**1.3. Representação gráfica de vetores e matrizes**\n",
    "\n",
    "Podemos visualizar vetores e matrizes graficamente para ter uma melhor compreensão de suas características e relações. Utilizaremos a biblioteca Matplotlib para criar gráficos.\n",
    "\n",
    "**Representação gráfica de vetores:**"
   ]
  },
  {
   "cell_type": "code",
   "execution_count": 3,
   "id": "0b4ed624",
   "metadata": {},
   "outputs": [
    {
     "data": {
      "image/png": "[encoded data removed]",
      "text/plain": [
       "<Figure size 640x480 with 1 Axes>"
      ]
     },
     "metadata": {},
     "output_type": "display_data"
    }
   ],
   "source": [
    "import numpy as np\n",
    "import matplotlib.pyplot as plt\n",
    "\n",
    "# Vetores\n",
    "v1 = np.array([1, 2])\n",
    "v2 = np.array([-2, 1])\n",
    "\n",
    "# Plotagem dos vetores\n",
    "plt.quiver(0, 0, v1[0], v1[1], angles='xy', scale_units='xy', scale=1, color='r')\n",
    "plt.quiver(0, 0, v2[0], v2[1], angles='xy', scale_units='xy', scale=1, color='b')\n",
    "plt.xlim(-3, 3)\n",
    "plt.ylim(-3, 3)\n",
    "plt.xlabel('Eixo x')\n",
    "plt.ylabel('Eixo y')\n",
    "plt.legend(['v1', 'v2'])\n",
    "plt.grid()\n",
    "plt.show()"
   ]
  },
  {
   "cell_type": "markdown",
   "id": "eb32b302",
   "metadata": {},
   "source": [
    "Nesse exemplo, criamos dois vetores v1 e v2. Utilizamos a função plt.quiver() do Matplotlib para plotar os vetores no plano cartesiano. Configuramos os rótulos dos eixos, adicionamos uma legenda e exibimos a grade.\n",
    "\n",
    "**Representação gráfica de matrizes:**"
   ]
  },
  {
   "cell_type": "code",
   "execution_count": 4,
   "id": "f925a616",
   "metadata": {},
   "outputs": [
    {
     "data": {
      "image/png": "[encoded data removed]",
      "text/plain": [
       "<Figure size 640x480 with 2 Axes>"
      ]
     },
     "metadata": {},
     "output_type": "display_data"
    }
   ],
   "source": [
    "import numpy as np\n",
    "import matplotlib.pyplot as plt\n",
    "\n",
    "# Matriz\n",
    "m = np.array([[1, 2], [3, 4]])\n",
    "\n",
    "# Plotagem da matriz\n",
    "plt.imshow(m, cmap='viridis', origin='upper')\n",
    "plt.colorbar()\n",
    "plt.xticks([0, 1], ['Coluna 0', 'Coluna 1'])\n",
    "plt.yticks([0, 1], ['Linha 0', 'Linha 1'])\n",
    "plt.xlabel('Colunas')\n",
    "plt.ylabel('Linhas')\n",
    "plt.title('Representação gráfica da matriz m')\n",
    "plt.show()"
   ]
  },
  {
   "cell_type": "markdown",
   "id": "eb6a3cd8",
   "metadata": {},
   "source": [
    "Nesse exemplo, utilizamos a função plt.imshow() para exibir uma representação gráfica da matriz m. Configuramos o mapa de cores com cmap='viridis', adicionamos uma barra de cores com plt.colorbar(), definimos os rótulos dos eixos x e y, e adicionamos um título ao gráfico.]"
   ]
  },
  {
   "cell_type": "markdown",
   "id": "8a893cb3",
   "metadata": {},
   "source": [
    "**1.4. Resolução de Equações lineares com Matrizes e Vetores**\n",
    "\n",
    "A Álgebra Linear é um ramo da matemática que estuda os espaços vetoriais, as transformações lineares e as equações lineares. As equações lineares são aquelas que envolvem somente variáveis com expoentes iguais a 1 e não têm produtos entre variáveis. A forma geral de uma equação linear é:\n",
    "\n",
    "a_1 * x_1 + a_2 * x_2 + ... + a_n * x_n = b\n",
    "\n",
    "Onde:\n",
    "\n",
    "x_1, x_2, ..., x_n são as variáveis desconhecidas.\n",
    "a_1, a_2, ..., a_n são os coeficientes das variáveis.\n",
    "\n",
    "b é o termo independente.\n",
    "\n",
    "A resolução das equações lineares consiste em encontrar os valores das variáveis que satisfazem a equação.\n",
    "\n",
    "As equações lineares podem ser resolvidas usando matrizes e vetores. Para isso, podemos representar o sistema de equações lineares na forma matricial.\n",
    "\n",
    "Por exemplo, considere o seguinte sistema de equações lineares com duas variáveis x e y:\n",
    "\n",
    "2x + 3y = 8\n",
    "\n",
    "4x - y = 7\n",
    "\n",
    "Podemos reescrever esse sistema na forma matricial como:\n",
    "\n",
    "| 2  3 |   | x |   | 8 |\n",
    "| 4 -1 | * | y | = | 7 |\n",
    "\n",
    "Onde:\n",
    "\n",
    "A matriz dos coeficientes é a matriz A de dimensão 2x2.\n",
    "O vetor das variáveis é o vetor X de dimensão 2x1, contendo as variáveis x e y.\n",
    "O vetor dos termos independentes é o vetor B de dimensão 2x1, contendo os valores 8 e 7.\n",
    "\n",
    "Agora, para encontrar o vetor X que contém as soluções para as variáveis x e y, podemos utilizar a propriedade das matrizes inversas:\n",
    "\n",
    "X = A^(-1) * B\n",
    "\n",
    "Onde A^(-1) é a matriz inversa de A."
   ]
  },
  {
   "cell_type": "markdown",
   "id": "203f0a55",
   "metadata": {},
   "source": [
    "**Exemplo de Resolução de Equações Lineares**\n",
    "\n",
    "Vamos resolver o sistema de equações lineares do exemplo anterior usando matrizes e vetores. Primeiro, vamos criar as matrizes A e B:"
   ]
  },
  {
   "cell_type": "code",
   "execution_count": 6,
   "id": "a237b2e9",
   "metadata": {},
   "outputs": [
    {
     "name": "stdout",
     "output_type": "stream",
     "text": [
      "[[ 2  3]\n",
      " [ 4 -1]]\n",
      "[[8]\n",
      " [7]]\n"
     ]
    }
   ],
   "source": [
    "import numpy as np\n",
    "\n",
    "# Matriz dos coeficientes\n",
    "A = np.array([[2, 3], [4, -1]])\n",
    "print(A)\n",
    "\n",
    "# Vetor dos termos independentes\n",
    "B = np.array([[8], [7]])\n",
    "print(B)"
   ]
  },
  {
   "cell_type": "markdown",
   "id": "ec5a6fe1",
   "metadata": {},
   "source": [
    "Agora, podemos calcular a matriz inversa de A e, em seguida, encontrar o vetor X com as soluções:"
   ]
  },
  {
   "cell_type": "code",
   "execution_count": 7,
   "id": "a5c83b35",
   "metadata": {},
   "outputs": [],
   "source": [
    "# Cálculo da matriz inversa de A\n",
    "A_inv = np.linalg.inv(A)\n",
    "\n",
    "# Cálculo do vetor X com as soluções\n",
    "X = A_inv.dot(B)"
   ]
  },
  {
   "cell_type": "markdown",
   "id": "7790358f",
   "metadata": {},
   "source": [
    "Agora, o vetor X contém as soluções para as variáveis x e y. Podemos exibir essas soluções:"
   ]
  },
  {
   "cell_type": "code",
   "execution_count": 8,
   "id": "76350cbf",
   "metadata": {},
   "outputs": [
    {
     "name": "stdout",
     "output_type": "stream",
     "text": [
      "Soluções:\n",
      "x = 2.071428571428571\n",
      "y = 1.2857142857142856\n"
     ]
    }
   ],
   "source": [
    "print(\"Soluções:\")\n",
    "print(\"x =\", X[0][0])\n",
    "print(\"y =\", X[1][0])"
   ]
  },
  {
   "cell_type": "markdown",
   "id": "5ec6e5c4",
   "metadata": {},
   "source": [
    "**Visualização Gráfica**\n",
    "\n",
    "Para visualizar graficamente a solução do sistema de equações, podemos plotar as retas correspondentes a cada equação linear e o ponto de interseção, que representa a solução.\n"
   ]
  },
  {
   "cell_type": "code",
   "execution_count": 9,
   "id": "3dad31d1",
   "metadata": {},
   "outputs": [
    {
     "data": {
      "image/png": "[encoded data removed]",
      "text/plain": [
       "<Figure size 640x480 with 1 Axes>"
      ]
     },
     "metadata": {},
     "output_type": "display_data"
    }
   ],
   "source": [
    "import matplotlib.pyplot as plt\n",
    "\n",
    "# Coordenadas das retas\n",
    "x = np.linspace(-10, 10, 100)\n",
    "y1 = (8 - 2*x) / 3\n",
    "y2 = 4*x - 7\n",
    "\n",
    "# Plot das retas\n",
    "plt.plot(x, y1, label='2x + 3y = 8')\n",
    "plt.plot(x, y2, label='4x - y = 7')\n",
    "\n",
    "# Plot da solução (ponto de interseção)\n",
    "plt.scatter(X[0][0], X[1][0], color='red', label='Solução')\n",
    "\n",
    "plt.xlabel('x')\n",
    "plt.ylabel('y')\n",
    "plt.legend()\n",
    "plt.grid()\n",
    "plt.axhline(0, color='black', lw=0.5)\n",
    "plt.axvline(0, color='black', lw=0.5)\n",
    "plt.xlim(-10, 10)\n",
    "plt.ylim(-10, 10)\n",
    "plt.title('Visualização Gráfica da Solução')\n",
    "plt.show()"
   ]
  },
  {
   "cell_type": "markdown",
   "id": "345c2d0c",
   "metadata": {},
   "source": [
    "O gráfico resultante mostrará as duas retas correspondentes às equações lineares e o ponto de interseção, que representa a solução do sistema."
   ]
  },
  {
   "cell_type": "markdown",
   "id": "acb831ab",
   "metadata": {},
   "source": [
    "# Fim"
   ]
  }
 ],
 "metadata": {
  "kernelspec": {
   "display_name": "Python 3 (ipykernel)",
   "language": "python",
   "name": "python3"
  },
  "language_info": {
   "codemirror_mode": {
    "name": "ipython",
    "version": 3
   },
   "file_extension": ".py",
   "mimetype": "text/x-python",
   "name": "python",
   "nbconvert_exporter": "python",
   "pygments_lexer": "ipython3",
   "version": "3.11.7"
  }
 },
 "nbformat": 4,
 "nbformat_minor": 5
}
