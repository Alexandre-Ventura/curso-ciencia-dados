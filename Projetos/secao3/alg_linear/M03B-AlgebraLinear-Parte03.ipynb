{
 "cells": [
  {
   "cell_type": "markdown",
   "id": "747fd2f8",
   "metadata": {},
   "source": [
    "![title](imagens/M03-NocoesAlgebraLinear.jpg)"
   ]
  },
  {
   "cell_type": "markdown",
   "id": "f11ff232",
   "metadata": {},
   "source": [
    "## Noções de Matemática - Álgebra Linear - Parte 3\n",
    "## 3. Matrizes"
   ]
  },
  {
   "cell_type": "markdown",
   "id": "7f6ac2cd",
   "metadata": {},
   "source": [
    "As matrizes são estruturas matemáticas que representam conjuntos de números organizados em linhas e colunas.\n",
    "\n",
    "**3.1 Definição e propriedades de matrizes**\n",
    "\n",
    "Vamos começar definindo matrizes e explorando algumas de suas propriedades."
   ]
  },
  {
   "cell_type": "code",
   "execution_count": null,
   "id": "08c4e03f",
   "metadata": {},
   "outputs": [],
   "source": [
    "import numpy as np\n",
    "\n",
    "# Definindo matrizes\n",
    "m1 = np.array([[1, 2, 3], [4, 5, 6]])\n",
    "m2 = np.array([[7, 8, 9], [10, 11, 12]])\n",
    "\n",
    "# Imprimindo matrizes\n",
    "print(\"Matriz m1:\")\n",
    "print(m1)\n",
    "print(\"Matriz m2:\")\n",
    "print(m2)\n",
    "\n",
    "# Dimensões das matrizes\n",
    "shape_m1 = m1.shape\n",
    "shape_m2 = m2.shape\n",
    "print(\"Dimensões da matriz m1:\", shape_m1)\n",
    "print(\"Dimensões da matriz m2:\", shape_m2)\n",
    "\n",
    "# Acessando elementos de uma matriz\n",
    "element_m1 = m1[0, 1]\n",
    "element_m2 = m2[1, 2]\n",
    "print(\"Elemento na posição (0, 1) da matriz m1:\", element_m1)\n",
    "print(\"Elemento na posição (1, 2) da matriz m2:\", element_m2)"
   ]
  },
  {
   "cell_type": "markdown",
   "id": "b407ca5b",
   "metadata": {},
   "source": [
    "Nesse exemplo, criamos duas matrizes m1 e m2. Utilizamos o atributo shape para obter as dimensões das matrizes e a notação de índice para acessar elementos específicos.\n",
    "\n",
    "**3.2 Operações com matrizes: adição, subtração e multiplicação por escalar**\n",
    "\n",
    "Vamos explorar as operações básicas com matrizes: adição, subtração e multiplicação por escalar."
   ]
  },
  {
   "cell_type": "code",
   "execution_count": null,
   "id": "58a8cb1c",
   "metadata": {},
   "outputs": [],
   "source": [
    "import numpy as np\n",
    "\n",
    "# Matrizes\n",
    "m1 = np.array([[1, 2, 3], [4, 5, 6]])\n",
    "m2 = np.array([[7, 8, 9], [10, 11, 12]])\n",
    "\n",
    "# Operações com matrizes\n",
    "m_sum = m1 + m2\n",
    "m_diff = m1 - m2\n",
    "m_scalar_mul = 2 * m1\n",
    "\n",
    "# Imprimindo resultados\n",
    "print(\"Soma de matrizes m1 + m2:\")\n",
    "print(m_sum)\n",
    "print(\"Subtração de matrizes m1 - m2:\")\n",
    "print(m_diff)\n",
    "print(\"Multiplicação escalar de m1 por 2:\")\n",
    "print(m_scalar_mul)"
   ]
  },
  {
   "cell_type": "markdown",
   "id": "59a0c129",
   "metadata": {},
   "source": [
    "Nesse exemplo, realizamos a adição de m1 e m2, a subtração de m1 por m2 e a multiplicação de m1 por um escalar de 2.\n",
    "\n",
    "**3.3 Produto matricial e suas aplicações**\n",
    "\n",
    "O produto matricial (também conhecido como multiplicação de matrizes) é uma operação que combina duas matrizes, produzindo uma nova matriz."
   ]
  },
  {
   "cell_type": "code",
   "execution_count": null,
   "id": "07407a89",
   "metadata": {},
   "outputs": [],
   "source": [
    "import numpy as np\n",
    "\n",
    "# Matrizes\n",
    "m1 = np.array([[1, 2, 3], [4, 5, 6]])\n",
    "m2 = np.array([[7, 8], [9, 10], [11, 12]])\n",
    "\n",
    "# Produto matricial\n",
    "m_product = np.dot(m1, m2)\n",
    "\n",
    "# Imprimindo resultado\n",
    "print(\"Produto matricial entre m1 e m2:\")\n",
    "print(m_product)"
   ]
  },
  {
   "cell_type": "markdown",
   "id": "f7a9a6d8",
   "metadata": {},
   "source": [
    "Nesse exemplo, utilizamos a função np.dot() para calcular o produto matricial entre m1 e m2.\n",
    "\n",
    "**3.4 Matriz transposta e matriz adjunta**\n",
    "\n",
    "A matriz transposta é uma operação que troca as linhas por colunas de uma matriz. A matriz adjunta é uma operação relacionada à matriz transposta, frequentemente usada em matrizes complexas."
   ]
  },
  {
   "cell_type": "code",
   "execution_count": null,
   "id": "5816d113",
   "metadata": {},
   "outputs": [],
   "source": [
    "import numpy as np\n",
    "\n",
    "# Matriz\n",
    "m = np.array([[1, 2, 3], [4, 5, 6]])\n",
    "print(m)\n",
    "\n",
    "# Matriz transposta\n",
    "transpose = np.transpose(m)\n",
    "\n",
    "# Imprimindo resultado\n",
    "print(\"Matriz transposta de m:\")\n",
    "print(transpose)"
   ]
  },
  {
   "cell_type": "markdown",
   "id": "d862179b",
   "metadata": {},
   "source": [
    "Explicação: Nesse exemplo, utilizamos a função np.transpose() para calcular a matriz transposta de m.\n",
    "\n",
    "**Determinante de uma matriz e sua importância**\n",
    "\n",
    "O determinante de uma matriz é uma medida numérica que possui várias aplicações, como testar a inversibilidade da matriz e calcular áreas e volumes."
   ]
  },
  {
   "cell_type": "code",
   "execution_count": null,
   "id": "4e24a534",
   "metadata": {},
   "outputs": [],
   "source": [
    "import numpy as np\n",
    "\n",
    "# Matriz\n",
    "m = np.array([[1, 2], [3, 4]])\n",
    "\n",
    "# Determinante de uma matriz\n",
    "det = np.linalg.det(m)\n",
    "\n",
    "# Imprimindo resultado\n",
    "print(\"Determinante da matriz m:\", det)"
   ]
  },
  {
   "cell_type": "markdown",
   "id": "28b5a199",
   "metadata": {},
   "source": [
    "Nesse exemplo, utilizamos a função np.linalg.det() para calcular o determinante da matriz m.\n",
    "\n",
    "**3.5 Matriz inversa e sua aplicação na resolução de sistemas de equações lineares**\n",
    "\n",
    "A matriz inversa é uma operação que nos permite encontrar uma matriz que, quando multiplicada pela matriz original, resulta na matriz identidade. Ela é usada na resolução de sistemas de equações lineares."
   ]
  },
  {
   "cell_type": "code",
   "execution_count": 2,
   "id": "a054c784",
   "metadata": {},
   "outputs": [
    {
     "name": "stdout",
     "output_type": "stream",
     "text": [
      "Matriz inversa de m:\n",
      "[[-0.1  0.3]\n",
      " [ 0.4 -0.2]]\n",
      "Solução do sistema de equações lineares:\n",
      "[1.9 1.4]\n",
      "[1.9 1.4]\n"
     ]
    }
   ],
   "source": [
    "import numpy as np\n",
    "\n",
    "# Matriz\n",
    "m = np.array([[2, 3], [4, 1]])\n",
    "\n",
    "# Matriz inversa\n",
    "inverse = np.linalg.inv(m)\n",
    "\n",
    "# Imprimindo resultado\n",
    "print(\"Matriz inversa de m:\")\n",
    "print(inverse)\n",
    "\n",
    "# Resolução de um sistema de equações lineares\n",
    "b = np.array([8, 9])\n",
    "x = np.linalg.solve(m, b)\n",
    "\n",
    "# Resolução de um sistema de equações lineares por matriz inversa\n",
    "x1 = inverse.dot(b)\n",
    "\n",
    "# Imprimindo resultado\n",
    "print(\"Solução do sistema de equações lineares:\")\n",
    "print(x)\n",
    "print(x1)"
   ]
  },
  {
   "cell_type": "markdown",
   "id": "3ba127b2",
   "metadata": {},
   "source": [
    "Nesse exemplo, utilizamos a função np.linalg.inv() para calcular a matriz inversa de m. Também utilizamos a função np.linalg.solve() para resolver um sistema de equações lineares representado pela matriz m e o vetor b."
   ]
  },
  {
   "cell_type": "markdown",
   "id": "acb831ab",
   "metadata": {},
   "source": [
    "# Fim"
   ]
  }
 ],
 "metadata": {
  "kernelspec": {
   "display_name": "Python 3 (ipykernel)",
   "language": "python",
   "name": "python3"
  },
  "language_info": {
   "codemirror_mode": {
    "name": "ipython",
    "version": 3
   },
   "file_extension": ".py",
   "mimetype": "text/x-python",
   "name": "python",
   "nbconvert_exporter": "python",
   "pygments_lexer": "ipython3",
   "version": "3.11.7"
  }
 },
 "nbformat": 4,
 "nbformat_minor": 5
}
