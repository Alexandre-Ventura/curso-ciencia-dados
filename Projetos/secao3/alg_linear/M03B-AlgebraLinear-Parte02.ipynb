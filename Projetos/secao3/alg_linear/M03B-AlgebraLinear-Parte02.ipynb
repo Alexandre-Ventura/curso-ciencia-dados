{
 "cells": [
  {
   "cell_type": "markdown",
   "id": "747fd2f8",
   "metadata": {},
   "source": [
    "![title](imagens/M03-NocoesAlgebraLinear.jpg)"
   ]
  },
  {
   "cell_type": "markdown",
   "id": "f11ff232",
   "metadata": {},
   "source": [
    "## Noções de Matemática - Álgebra Linear - Parte 2\n",
    "## 2. Vetores"
   ]
  },
  {
   "cell_type": "markdown",
   "id": "7f6ac2cd",
   "metadata": {},
   "source": [
    "Os vetores são estruturas matemáticas que representam uma quantidade com magnitude e direção em um espaço específico.\n",
    "\n",
    "**2.1 Definição e propriedades de vetores**\n",
    "\n",
    "Vamos começar definindo vetores e explorando algumas de suas propriedades.\n"
   ]
  },
  {
   "cell_type": "code",
   "execution_count": 1,
   "id": "da0d1181",
   "metadata": {},
   "outputs": [
    {
     "name": "stdout",
     "output_type": "stream",
     "text": [
      "Vetor v1: [1 2 3]\n",
      "Vetor v2: [4 5 6]\n",
      "Tamanho do vetor v1: 3\n",
      "Tamanho do vetor v2: 3\n",
      "Elemento de índice 0 do vetor v1: 1\n",
      "Elemento de índice 1 do vetor v2: 5\n"
     ]
    }
   ],
   "source": [
    "import numpy as np\n",
    "\n",
    "# Definindo vetores\n",
    "v1 = np.array([1, 2, 3])\n",
    "v2 = np.array([4, 5, 6])\n",
    "\n",
    "# Imprimindo vetores\n",
    "print(\"Vetor v1:\", v1)\n",
    "print(\"Vetor v2:\", v2)\n",
    "\n",
    "# Tamanho dos vetores\n",
    "size_v1 = len(v1)\n",
    "size_v2 = len(v2)\n",
    "print(\"Tamanho do vetor v1:\", size_v1)\n",
    "print(\"Tamanho do vetor v2:\", size_v2)\n",
    "\n",
    "# Acessando elementos de um vetor\n",
    "element_v1 = v1[0]\n",
    "element_v2 = v2[1]\n",
    "print(\"Elemento de índice 0 do vetor v1:\", element_v1)\n",
    "print(\"Elemento de índice 1 do vetor v2:\", element_v2)"
   ]
  },
  {
   "cell_type": "markdown",
   "id": "b407ca5b",
   "metadata": {},
   "source": [
    "Nesse exemplo, criamos dois vetores v1 e v2. Utilizamos a função len() para obter o tamanho dos vetores e a notação de índice para acessar elementos específicos.\n",
    "\n",
    "**2.2 Operações com vetores: adição, subtração e multiplicação por escalar**\n",
    "\n",
    "Vamos explorar as operações básicas com vetores: adição, subtração e multiplicação por escalar.\n"
   ]
  },
  {
   "cell_type": "code",
   "execution_count": 2,
   "id": "ea342dad",
   "metadata": {},
   "outputs": [
    {
     "name": "stdout",
     "output_type": "stream",
     "text": [
      "Soma de vetores v1 + v2: [5 7 9]\n",
      "Subtração de vetores v1 - v2: [-3 -3 -3]\n",
      "Multiplicação escalar de v1 por 2: [2 4 6]\n"
     ]
    }
   ],
   "source": [
    "import numpy as np\n",
    "\n",
    "# Vetores\n",
    "v1 = np.array([1, 2, 3])\n",
    "v2 = np.array([4, 5, 6])\n",
    "\n",
    "# Operações com vetores\n",
    "v_sum = v1 + v2\n",
    "v_diff = v1 - v2\n",
    "v_scalar_mul = 2 * v1\n",
    "\n",
    "# Imprimindo resultados\n",
    "print(\"Soma de vetores v1 + v2:\", v_sum)\n",
    "print(\"Subtração de vetores v1 - v2:\", v_diff)\n",
    "print(\"Multiplicação escalar de v1 por 2:\", v_scalar_mul)"
   ]
  },
  {
   "cell_type": "markdown",
   "id": "c696b1c0",
   "metadata": {},
   "source": [
    "Nesse exemplo, realizamos a adição de v1 e v2, a subtração de v1 por v2 e a multiplicação de v1 por um escalar de 2.\n",
    "\n",
    "**2.3 Produto escalar e suas aplicações**\n",
    "\n",
    "O produto escalar (também conhecido como produto interno) é uma operação que combina dois vetores, produzindo um número real.\n"
   ]
  },
  {
   "cell_type": "code",
   "execution_count": 3,
   "id": "383ef674",
   "metadata": {},
   "outputs": [
    {
     "name": "stdout",
     "output_type": "stream",
     "text": [
      "Produto escalar entre v1 e v2: 32\n"
     ]
    }
   ],
   "source": [
    "import numpy as np\n",
    "\n",
    "# Vetores\n",
    "v1 = np.array([1, 2, 3])\n",
    "v2 = np.array([4, 5, 6])\n",
    "\n",
    "# Produto escalar\n",
    "dot_product = np.dot(v1, v2)\n",
    "\n",
    "# Imprimindo resultado\n",
    "print(\"Produto escalar entre v1 e v2:\", dot_product)"
   ]
  },
  {
   "cell_type": "markdown",
   "id": "5165feb4",
   "metadata": {},
   "source": [
    "Nesse exemplo, utilizamos a função np.dot() para calcular o produto escalar entre v1 e v2.\n",
    "\n",
    "**2.4 Norma de um vetor e distância euclidiana**\n",
    "\n",
    "A norma de um vetor é uma medida que representa o comprimento ou magnitude do vetor.\n"
   ]
  },
  {
   "cell_type": "code",
   "execution_count": 4,
   "id": "267c2c53",
   "metadata": {},
   "outputs": [
    {
     "name": "stdout",
     "output_type": "stream",
     "text": [
      "Norma do vetor v: 3.7416573867739413\n"
     ]
    }
   ],
   "source": [
    "import numpy as np\n",
    "\n",
    "# Vetor\n",
    "v = np.array([1, 2, 3])\n",
    "\n",
    "# Norma de um vetor\n",
    "norm = np.linalg.norm(v)\n",
    "\n",
    "# Imprimindo resultado\n",
    "print(\"Norma do vetor v:\", norm)"
   ]
  },
  {
   "cell_type": "markdown",
   "id": "f5910b2a",
   "metadata": {},
   "source": [
    "Nesse exemplo, utilizamos a função np.linalg.norm() para calcular a norma do vetor v.\n",
    "\n",
    "**2.5 Vetores ortogonais e produto vetorial**\n",
    "\n",
    "Dois vetores são considerados ortogonais se o ângulo entre eles for de 90 graus. O produto vetorial é uma operação que produz um novo vetor que é ortogonal aos dois vetores originais.\n"
   ]
  },
  {
   "cell_type": "code",
   "execution_count": 5,
   "id": "79025ca3",
   "metadata": {},
   "outputs": [
    {
     "name": "stdout",
     "output_type": "stream",
     "text": [
      "Produto vetorial entre v1 e v2: [0 0 1]\n"
     ]
    }
   ],
   "source": [
    "import numpy as np\n",
    "\n",
    "# Vetores\n",
    "v1 = np.array([1, 0, 0])\n",
    "v2 = np.array([0, 1, 0])\n",
    "\n",
    "# Produto vetorial\n",
    "cross_product = np.cross(v1, v2)\n",
    "\n",
    "# Imprimindo resultado\n",
    "print(\"Produto vetorial entre v1 e v2:\", cross_product)"
   ]
  },
  {
   "cell_type": "markdown",
   "id": "de2ee185",
   "metadata": {},
   "source": [
    "Nesse exemplo, utilizamos a função np.cross() para calcular o produto vetorial entre v1 e v2."
   ]
  },
  {
   "cell_type": "markdown",
   "id": "acb831ab",
   "metadata": {},
   "source": [
    "# Fim"
   ]
  }
 ],
 "metadata": {
  "kernelspec": {
   "display_name": "Python 3 (ipykernel)",
   "language": "python",
   "name": "python3"
  },
  "language_info": {
   "codemirror_mode": {
    "name": "ipython",
    "version": 3
   },
   "file_extension": ".py",
   "mimetype": "text/x-python",
   "name": "python",
   "nbconvert_exporter": "python",
   "pygments_lexer": "ipython3",
   "version": "3.11.7"
  }
 },
 "nbformat": 4,
 "nbformat_minor": 5
}
