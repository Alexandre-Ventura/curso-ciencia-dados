{
 "cells": [
  {
   "cell_type": "markdown",
   "id": "747fd2f8",
   "metadata": {},
   "source": [
    "![title](imagens/M03-NocoesAlgebraLinear.jpg)"
   ]
  },
  {
   "cell_type": "markdown",
   "id": "f11ff232",
   "metadata": {},
   "source": [
    "## Noções de Matemática - Álgebra Linear - Parte 5\n",
    "## 5. Mais Exemplos de Aplicações da Álgebra Linear"
   ]
  },
  {
   "cell_type": "markdown",
   "id": "7f6ac2cd",
   "metadata": {},
   "source": [
    "A álgebra linear desempenha um papel fundamental na ciência de dados, fornecendo ferramentas para representação, análise e manipulação de dados de alta dimensão. Vamos explorar alguns exemplos práticos de aplicação da álgebra linear em projetos de ciência de dados.\n",
    "\n",
    "**5.1 Implementação de algoritmos e técnicas de álgebra linear em projetos de ciência de dados**\n",
    "\n",
    "Vamos implementar alguns algoritmos e técnicas de álgebra linear comumente utilizados em projetos de ciência de dados.\n",
    "\n",
    "**Análise Exploratória de Dados:**"
   ]
  },
  {
   "cell_type": "code",
   "execution_count": 1,
   "id": "ae18cd7c",
   "metadata": {},
   "outputs": [
    {
     "name": "stdout",
     "output_type": "stream",
     "text": [
      "   coluna1  coluna2\n",
      "0      1.5      2.5\n",
      "1      2.5      3.5\n",
      "2      3.5      4.5\n",
      "3      4.5      5.5\n",
      "4      5.5      6.5\n",
      "Média: 3.5\n",
      "Matriz de Covariância:\n",
      "[[2.5 2.5]\n",
      " [2.5 2.5]]\n"
     ]
    }
   ],
   "source": [
    "import numpy as np\n",
    "import pandas as pd\n",
    "\n",
    "# Carregando dados\n",
    "data = pd.read_csv('dados.csv')\n",
    "print(data)\n",
    "# Análise exploratória de dados\n",
    "# Exemplo de cálculo da média\n",
    "media = np.mean(data['coluna1'])  # Corrigido para 'coluna1'\n",
    "print(\"Média:\", media)\n",
    "\n",
    "# Exemplo de cálculo da matriz de covariância\n",
    "covariance_matrix = np.cov(data['coluna1'], data['coluna2'])\n",
    "print(\"Matriz de Covariância:\")\n",
    "print(covariance_matrix)"
   ]
  },
  {
   "cell_type": "markdown",
   "id": "b407ca5b",
   "metadata": {},
   "source": [
    "Nesse exemplo, utilizamos a biblioteca NumPy para realizar uma análise exploratória de dados. Calculamos a média de uma coluna do conjunto de dados e a matriz de covariância entre duas colunas.\n",
    "\n",
    "**Regressão Linear:**"
   ]
  },
  {
   "cell_type": "code",
   "execution_count": 2,
   "id": "2edea3de",
   "metadata": {},
   "outputs": [
    {
     "name": "stdout",
     "output_type": "stream",
     "text": [
      "Coeficiente Angular: 2.0000000000000004\n",
      "Intercept: -1.7763568394002505e-15\n"
     ]
    }
   ],
   "source": [
    "import numpy as np\n",
    "from sklearn.linear_model import LinearRegression\n",
    "\n",
    "# Dados de exemplo\n",
    "x = np.array([1, 2, 3, 4, 5])\n",
    "y = np.array([2, 4, 6, 8, 10])\n",
    "\n",
    "# Ajuste de regressão linear\n",
    "model = LinearRegression()\n",
    "model.fit(x.reshape(-1, 1), y)\n",
    "\n",
    "# Coeficientes da regressão\n",
    "coeficiente_angular = model.coef_[0]\n",
    "intercept = model.intercept_\n",
    "\n",
    "# Imprimindo resultado\n",
    "print(\"Coeficiente Angular:\", coeficiente_angular)\n",
    "print(\"Intercept:\", intercept)"
   ]
  },
  {
   "cell_type": "markdown",
   "id": "41f8a11c",
   "metadata": {},
   "source": [
    "Nesse exemplo, utilizamos a biblioteca scikit-learn para ajustar um modelo de regressão linear aos dados. Calculamos os coeficientes da regressão (coeficiente angular e interceptação) e os imprimimos.\n",
    "\n",
    "- Coeficiente Angular: inclinação da linha de regressão e representa a mudança média na variável dependente (y) conforme o (x) se altera.\n",
    "- Intercepto: é o ponto de corte da reta no eixo y (é o valor de y quando x = 0)\n",
    "\n",
    "**Classificação:**"
   ]
  },
  {
   "cell_type": "code",
   "execution_count": 3,
   "id": "385a71e3",
   "metadata": {},
   "outputs": [
    {
     "name": "stdout",
     "output_type": "stream",
     "text": [
      "Previsão: [0]\n"
     ]
    }
   ],
   "source": [
    "import numpy as np\n",
    "from sklearn.linear_model import LogisticRegression\n",
    "\n",
    "# Dados de exemplo\n",
    "X = np.array([[1, 2], [2, 3], [3, 4], [4, 5]])\n",
    "y = np.array([0, 0, 1, 1])\n",
    "\n",
    "# Ajuste de modelo de regressão logística\n",
    "model = LogisticRegression()\n",
    "model.fit(X, y)\n",
    "\n",
    "# Previsão\n",
    "new_data = np.array([[2.5, 3.5]])\n",
    "prediction = model.predict(new_data)\n",
    "\n",
    "# Imprimindo resultado\n",
    "print(\"Previsão:\", prediction)"
   ]
  },
  {
   "cell_type": "markdown",
   "id": "a222eb88",
   "metadata": {},
   "source": [
    "Nesse exemplo, utilizamos a biblioteca scikit-learn para ajustar um modelo de regressão logística aos dados. Em seguida, realizamos uma previsão para um novo conjunto de dados e imprimimos o resultado.\n",
    "\n",
    "O resultado: Previsão: `[0]` indica que o modelo de regressão logística previu que a nova amostra respresentada por `new_data` pertence à classe `0` com base nos padrões apreendidos ao longo do treinamento."
   ]
  },
  {
   "cell_type": "markdown",
   "id": "acb831ab",
   "metadata": {},
   "source": [
    "# Fim"
   ]
  },
  {
   "cell_type": "code",
   "execution_count": null,
   "id": "732309d9-ca12-4f76-9a13-7f2071a58b7a",
   "metadata": {},
   "outputs": [],
   "source": []
  }
 ],
 "metadata": {
  "kernelspec": {
   "display_name": "Python 3 (ipykernel)",
   "language": "python",
   "name": "python3"
  },
  "language_info": {
   "codemirror_mode": {
    "name": "ipython",
    "version": 3
   },
   "file_extension": ".py",
   "mimetype": "text/x-python",
   "name": "python",
   "nbconvert_exporter": "python",
   "pygments_lexer": "ipython3",
   "version": "3.11.7"
  }
 },
 "nbformat": 4,
 "nbformat_minor": 5
}
