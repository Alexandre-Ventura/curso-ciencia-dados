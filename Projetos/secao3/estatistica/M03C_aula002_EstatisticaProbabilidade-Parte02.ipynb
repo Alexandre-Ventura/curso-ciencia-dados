{
 "cells": [
  {
   "cell_type": "markdown",
   "id": "747fd2f8",
   "metadata": {},
   "source": [
    "![title](imagens/M03-NocoesEstatistica.jpg)"
   ]
  },
  {
   "cell_type": "markdown",
   "id": "f11ff232",
   "metadata": {},
   "source": [
    "## Noções de Matemática - Estatística e Probabilidade - Parte 2\n",
    "\n",
    "## 2. Tipos de Dados"
   ]
  },
  {
   "cell_type": "markdown",
   "id": "7f6ac2cd",
   "metadata": {},
   "source": [
    "Em Ciência de Dados, é fundamental entender a natureza dos dados com os quais estamos lidando. Os dados podem ser qualitativos ou quantitativos:\n",
    "\n",
    "**2.1 Dados qualitativos**\n",
    "\n",
    "Também conhecidos como dados categóricos, esses dados representam atributos ou qualidades que não podem ser quantificados numericamente. Existem duas categorias de dados qualitativos:\n",
    "\n",
    "•\t**Dados Qualitativos Nominais**: São dados que representam atributos sem uma ordem específica. Exemplos de dados qualitativos nominais incluem gênero, cor dos olhos ou estado civil.\n",
    "\n",
    "•\t**Dados Qualitativos Ordinais**: São dados que representam atributos com uma ordem específica. Exemplos de dados qualitativos ordinais incluem classificações como \"baixo\", \"médio\" e \"alto\" ou níveis de satisfação como \"insatisfeito\", \"satisfeito\" e \"muito satisfeito\" ou ainda, nível de escolaridade."
   ]
  },
  {
   "cell_type": "markdown",
   "id": "b8bdc0e7",
   "metadata": {},
   "source": [
    "**2.2 Dados quantitativos**\n",
    "\n",
    "Esses dados representam quantidades numéricas e podem ser subcategorizados em dois tipos principais:\n",
    "\n",
    "•\t**Dados Quantitativos Discretos**: São dados que representam valores numéricos inteiros e distintos. Exemplos de dados quantitativos discretos incluem o número de filhos em uma família, o número de visitantes em um site ou o número de carros em um estacionamento.\n",
    "\n",
    "•\t**Dados Quantitativos Contínuos**: São dados que podem assumir valores em uma escala contínua. Exemplos de dados quantitativos contínuos incluem a altura de uma pessoa, o peso de um objeto ou o tempo decorrido entre dois eventos.\n",
    "\n",
    "Em resumo, temos o seguinte:\n",
    "\n",
    "![title](imagens/variavel.jpg)\n",
    "\n",
    "A seguir estão alguns exemplos de codificação em Jupyter Notebook para cada um dos tipos de dados:"
   ]
  },
  {
   "cell_type": "code",
   "execution_count": 1,
   "id": "c60e9f42",
   "metadata": {},
   "outputs": [
    {
     "data": {
      "text/html": [
       "<div>\n",
       "<style scoped>\n",
       "    .dataframe tbody tr th:only-of-type {\n",
       "        vertical-align: middle;\n",
       "    }\n",
       "\n",
       "    .dataframe tbody tr th {\n",
       "        vertical-align: top;\n",
       "    }\n",
       "\n",
       "    .dataframe thead th {\n",
       "        text-align: right;\n",
       "    }\n",
       "</style>\n",
       "<table border=\"1\" class=\"dataframe\">\n",
       "  <thead>\n",
       "    <tr style=\"text-align: right;\">\n",
       "      <th></th>\n",
       "      <th>Nome</th>\n",
       "      <th>Gênero</th>\n",
       "    </tr>\n",
       "  </thead>\n",
       "  <tbody>\n",
       "    <tr>\n",
       "      <th>0</th>\n",
       "      <td>João</td>\n",
       "      <td>Masculino</td>\n",
       "    </tr>\n",
       "    <tr>\n",
       "      <th>1</th>\n",
       "      <td>Maria</td>\n",
       "      <td>Feminino</td>\n",
       "    </tr>\n",
       "    <tr>\n",
       "      <th>2</th>\n",
       "      <td>Pedro</td>\n",
       "      <td>Masculino</td>\n",
       "    </tr>\n",
       "    <tr>\n",
       "      <th>3</th>\n",
       "      <td>Ana</td>\n",
       "      <td>Feminino</td>\n",
       "    </tr>\n",
       "    <tr>\n",
       "      <th>4</th>\n",
       "      <td>Carlos</td>\n",
       "      <td>Masculino</td>\n",
       "    </tr>\n",
       "  </tbody>\n",
       "</table>\n",
       "</div>"
      ],
      "text/plain": [
       "     Nome     Gênero\n",
       "0    João  Masculino\n",
       "1   Maria   Feminino\n",
       "2   Pedro  Masculino\n",
       "3     Ana   Feminino\n",
       "4  Carlos  Masculino"
      ]
     },
     "execution_count": 1,
     "metadata": {},
     "output_type": "execute_result"
    }
   ],
   "source": [
    "#Exemplo de criação de um conjunto de dados qualitativos utilizando a biblioteca Pandas:\n",
    "\n",
    "import pandas as pd\n",
    "\n",
    "# Criação de um DataFrame com dados qualitativos nominais (gênero)\n",
    "dados = pd.DataFrame({'Nome': ['João', 'Maria', 'Pedro', 'Ana', 'Carlos'],\n",
    "                      'Gênero': ['Masculino', 'Feminino', 'Masculino', 'Feminino', 'Masculino']})\n",
    "dados.head()"
   ]
  },
  {
   "cell_type": "code",
   "execution_count": 2,
   "id": "51a1cfc8",
   "metadata": {},
   "outputs": [
    {
     "data": {
      "text/html": [
       "<div>\n",
       "<style scoped>\n",
       "    .dataframe tbody tr th:only-of-type {\n",
       "        vertical-align: middle;\n",
       "    }\n",
       "\n",
       "    .dataframe tbody tr th {\n",
       "        vertical-align: top;\n",
       "    }\n",
       "\n",
       "    .dataframe thead th {\n",
       "        text-align: right;\n",
       "    }\n",
       "</style>\n",
       "<table border=\"1\" class=\"dataframe\">\n",
       "  <thead>\n",
       "    <tr style=\"text-align: right;\">\n",
       "      <th></th>\n",
       "      <th>Cliente</th>\n",
       "      <th>Satisfação</th>\n",
       "    </tr>\n",
       "  </thead>\n",
       "  <tbody>\n",
       "    <tr>\n",
       "      <th>0</th>\n",
       "      <td>A</td>\n",
       "      <td>Baixo</td>\n",
       "    </tr>\n",
       "    <tr>\n",
       "      <th>1</th>\n",
       "      <td>B</td>\n",
       "      <td>Médio</td>\n",
       "    </tr>\n",
       "    <tr>\n",
       "      <th>2</th>\n",
       "      <td>C</td>\n",
       "      <td>Alto</td>\n",
       "    </tr>\n",
       "    <tr>\n",
       "      <th>3</th>\n",
       "      <td>D</td>\n",
       "      <td>Médio</td>\n",
       "    </tr>\n",
       "    <tr>\n",
       "      <th>4</th>\n",
       "      <td>E</td>\n",
       "      <td>Alto</td>\n",
       "    </tr>\n",
       "  </tbody>\n",
       "</table>\n",
       "</div>"
      ],
      "text/plain": [
       "  Cliente Satisfação\n",
       "0       A      Baixo\n",
       "1       B      Médio\n",
       "2       C       Alto\n",
       "3       D      Médio\n",
       "4       E       Alto"
      ]
     },
     "execution_count": 2,
     "metadata": {},
     "output_type": "execute_result"
    }
   ],
   "source": [
    "#Exemplo de criação de um conjunto de dados qualitativos utilizando a biblioteca Pandas:\n",
    "\n",
    "import pandas as pd\n",
    "\n",
    "# Criação de um DataFrame com dados qualitativos ordinais (nível de satisfação)\n",
    "dados = pd.DataFrame({'Cliente': ['A', 'B', 'C', 'D', 'E'],\n",
    "                      'Satisfação': ['Baixo', 'Médio', 'Alto', 'Médio', 'Alto']})\n",
    "dados.head()"
   ]
  },
  {
   "cell_type": "code",
   "execution_count": 3,
   "id": "2935961b",
   "metadata": {},
   "outputs": [
    {
     "name": "stdout",
     "output_type": "stream",
     "text": [
      "[0 2 1 3 2]\n"
     ]
    }
   ],
   "source": [
    "#Exemplo de criação de um conjunto de dados quantitativos discretos utilizando a biblioteca NumPy:\n",
    "\n",
    "import numpy as np\n",
    "\n",
    "# Criação de um conjunto de dados de número de filhos\n",
    "num_filhos = np.array([0, 2, 1, 3, 2])\n",
    "\n",
    "print(num_filhos)"
   ]
  },
  {
   "cell_type": "code",
   "execution_count": 4,
   "id": "f68d7475",
   "metadata": {},
   "outputs": [
    {
     "name": "stdout",
     "output_type": "stream",
     "text": [
      "[165 170 155 180 160]\n"
     ]
    }
   ],
   "source": [
    "#Exemplo de criação de um conjunto de dados quantitativos contínuos utilizando a biblioteca NumPy:\n",
    "\n",
    "import numpy as np\n",
    "\n",
    "# Criação de um conjunto de dados de altura\n",
    "altura = np.array([165, 170, 155, 180, 160])\n",
    "\n",
    "print(altura)"
   ]
  },
  {
   "cell_type": "markdown",
   "id": "4b15c05b",
   "metadata": {},
   "source": [
    "Esses são apenas alguns exemplos iniciais, mas ao longo da sua jornada em Ciência de Dados, você encontrará muitos outros tipos de dados e poderá utilizar diversas bibliotecas, como Pandas e NumPy, para trabalhar com eles."
   ]
  },
  {
   "cell_type": "markdown",
   "id": "acb831ab",
   "metadata": {},
   "source": [
    "# Fim"
   ]
  }
 ],
 "metadata": {
  "kernelspec": {
   "display_name": "Python 3 (ipykernel)",
   "language": "python",
   "name": "python3"
  },
  "language_info": {
   "codemirror_mode": {
    "name": "ipython",
    "version": 3
   },
   "file_extension": ".py",
   "mimetype": "text/x-python",
   "name": "python",
   "nbconvert_exporter": "python",
   "pygments_lexer": "ipython3",
   "version": "3.11.7"
  }
 },
 "nbformat": 4,
 "nbformat_minor": 5
}
