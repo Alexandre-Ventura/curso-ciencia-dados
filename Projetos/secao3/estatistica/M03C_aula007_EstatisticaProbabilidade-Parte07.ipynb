{
 "cells": [
  {
   "cell_type": "markdown",
   "id": "747fd2f8",
   "metadata": {},
   "source": [
    "![title](imagens/M03-NocoesEstatistica.jpg)"
   ]
  },
  {
   "cell_type": "markdown",
   "id": "f11ff232",
   "metadata": {},
   "source": [
    "## Noções de Matemática - Estatística e Probabilidade - Parte 7\n",
    "\n",
    "## 7. Amostragem e Estimação"
   ]
  },
  {
   "cell_type": "markdown",
   "id": "7f6ac2cd",
   "metadata": {},
   "source": [
    "**7.1 Amostragem Aleatória Simples**\n",
    "\n",
    "A amostragem aleatória simples é um método de seleção de amostras em que cada elemento da população tem a mesma chance de ser escolhido. Esse método é amplamente utilizado em Ciência de Dados para extrair informações sobre uma população maior. \n",
    "\n",
    "![title](imagens/PopAmo.jpg)\n",
    "\n",
    "Aqui estão os passos para realizar uma amostragem aleatória simples:\n",
    "\n",
    "•\t**Definir a população**: Identifique a população de interesse para a sua análise.\n",
    "\n",
    "•\t**Determinar o tamanho da amostra**: Decida o tamanho da amostra que você deseja selecionar. Lembre-se de que o tamanho da amostra afeta a precisão da estimativa.\n",
    "\n",
    "•\t**Atribuir um número a cada elemento**: Atribua um número a cada elemento da população, de forma que cada elemento tenha um número exclusivo.\n",
    "\n",
    "•\t**Selecionar elementos aleatoriamente**: Use um método aleatório (por exemplo, gerador de números aleatórios) para selecionar os números correspondentes aos elementos da amostra.\n",
    "\n",
    "•\t**Coletar os dados**: Uma vez que a amostra tenha sido selecionada, colete os dados relevantes para análise.\n",
    "\n",
    "Exemplo de amostragem aleatória simples utilizando a biblioteca Pandas:"
   ]
  },
  {
   "cell_type": "code",
   "execution_count": 2,
   "id": "9bc8aa48",
   "metadata": {},
   "outputs": [
    {
     "name": "stdout",
     "output_type": "stream",
     "text": [
      "Amostra:    Idade\n",
      "4     45\n",
      "0     25\n",
      "5     50\n"
     ]
    }
   ],
   "source": [
    "import pandas as pd\n",
    "\n",
    "# Dados de exemplo (idade de uma população)\n",
    "populacao = pd.DataFrame({'Idade': [25, 30, 35, 40, 45, 50]})\n",
    "\n",
    "# Amostragem aleatória simples de tamanho 3\n",
    "amostra = populacao.sample(n=3)\n",
    "print(\"Amostra:\", amostra)"
   ]
  },
  {
   "cell_type": "markdown",
   "id": "e3e5026b",
   "metadata": {},
   "source": [
    "**7.2 Estimativa de Parâmetros Populacionais**\n",
    "\n",
    "A estimativa de parâmetros populacionais envolve o uso de estatísticas amostrais para estimar características da população maior. As estatísticas amostrais, como a média e o desvio padrão, são usadas como estimadores para os parâmetros populacionais correspondentes. Aqui estão alguns exemplos de estimadores comuns:\n",
    "\n",
    "•\t**Estimativa da média populacional**: A média da amostra (x̄) é usada como estimativa da média populacional (µ).\n",
    "\n",
    "•\t**Estimativa da proporção populacional**: A proporção da amostra (p) é usada como estimativa da proporção populacional (P).\n",
    "\n",
    "•\t**Estimativa da variância populacional**: A variância da amostra (s²) é usada como estimativa da variância populacional (σ²).\n",
    "\n",
    "É importante lembrar que as estimativas amostrais podem conter erros, chamados de erros de estimativa, devido à variabilidade natural dos dados. Quanto maior o tamanho da amostra, menor será o erro de estimativa.\n",
    "\n",
    "Exemplo de estimativa de média populacional utilizando a biblioteca NumPy:"
   ]
  },
  {
   "cell_type": "code",
   "execution_count": 3,
   "id": "72faa00a",
   "metadata": {},
   "outputs": [
    {
     "name": "stdout",
     "output_type": "stream",
     "text": [
      "A média populacional estimada é: 37.5\n"
     ]
    }
   ],
   "source": [
    "import numpy as np\n",
    "\n",
    "# Dados de exemplo (idade de uma amostra)\n",
    "amostra = np.array([25, 30, 35, 40, 45, 50])\n",
    "\n",
    "# Estimativa da média populacional\n",
    "media_estimada = np.mean(amostra)\n",
    "print(\"A média populacional estimada é:\", media_estimada)"
   ]
  },
  {
   "cell_type": "code",
   "execution_count": 4,
   "id": "c0d4c11b-d881-443d-8b2c-b4546cc95ac0",
   "metadata": {},
   "outputs": [
    {
     "name": "stdout",
     "output_type": "stream",
     "text": [
      "A média dessa nova amostra é:  38.333333333333336\n",
      "Erro de Estimativa:  -0.8333333333333357\n"
     ]
    }
   ],
   "source": [
    "import numpy as np\n",
    "# Amostragem aleatória simples de tamanho 3\n",
    "amostra1 = np.array([25, 40, 50])\n",
    "media_estimada1 = np.mean(amostra1)\n",
    "print(\"A média dessa nova amostra é: \", media_estimada1)\n",
    "\n",
    "# Erro de estimativa\n",
    "erro = media_estimada - media_estimada1\n",
    "print(\"Erro de Estimativa: \", erro)"
   ]
  },
  {
   "cell_type": "markdown",
   "id": "d1818b86",
   "metadata": {},
   "source": [
    "**7.3 Intervalo de Confiança**\n",
    "\n",
    "O intervalo de confiança é uma faixa de valores dentro da qual acredita-se que um parâmetro populacional esteja contido com um determinado nível de confiança. O intervalo de confiança fornece uma medida de incerteza sobre a estimativa pontual do parâmetro populacional. Aqui estão os passos para calcular um intervalo de confiança:\n",
    "\n",
    "•\t**Determinar o nível de confiança**: Escolha um nível de confiança desejado, que represente a probabilidade de que o intervalo contenha o verdadeiro valor do parâmetro populacional. Exemplos comuns de nível de confiança são 95% e 99%.\n",
    "\n",
    "•\t**Calcular a estimativa pontual**: Calcule a estimativa pontual do parâmetro populacional com base na amostra.\n",
    "\n",
    "•\t**Determinar o erro padrão**: Calcule o erro padrão da estimativa utilizando a variabilidade dos dados da amostra e o tamanho da amostra.\n",
    "\n",
    "•\t**Calcular o intervalo de confiança**: Utilize a estimativa pontual, o erro padrão e o nível de confiança para calcular o intervalo de confiança. O intervalo de confiança é tipicamente simétrico em torno da estimativa pontual.\n",
    "\n",
    "\n",
    "Exemplo de cálculo do intervalo de confiança para a média populacional utilizando a biblioteca SciPy:"
   ]
  },
  {
   "cell_type": "code",
   "execution_count": 5,
   "id": "010c73be",
   "metadata": {},
   "outputs": [
    {
     "name": "stdout",
     "output_type": "stream",
     "text": [
      "O intervalo de confiança de 95% para a média populacional é: (27.683428461361956, 47.316571538638044)\n"
     ]
    }
   ],
   "source": [
    "from scipy import stats\n",
    "\n",
    "# Dados de exemplo (idade de uma amostra)\n",
    "amostra = np.array([25, 30, 35, 40, 45, 50])\n",
    "\n",
    "# Intervalo de confiança de 95% para a média populacional\n",
    "intervalo = stats.t.interval(0.95, len(amostra)-1, loc=np.mean(amostra), scale=stats.sem(amostra))\n",
    "print(\"O intervalo de confiança de 95% para a média populacional é:\", intervalo)"
   ]
  },
  {
   "cell_type": "markdown",
   "id": "acb831ab",
   "metadata": {},
   "source": [
    "# Fim"
   ]
  }
 ],
 "metadata": {
  "kernelspec": {
   "display_name": "Python 3 (ipykernel)",
   "language": "python",
   "name": "python3"
  },
  "language_info": {
   "codemirror_mode": {
    "name": "ipython",
    "version": 3
   },
   "file_extension": ".py",
   "mimetype": "text/x-python",
   "name": "python",
   "nbconvert_exporter": "python",
   "pygments_lexer": "ipython3",
   "version": "3.11.7"
  }
 },
 "nbformat": 4,
 "nbformat_minor": 5
}
