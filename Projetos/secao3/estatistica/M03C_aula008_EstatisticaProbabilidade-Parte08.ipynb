{
 "cells": [
  {
   "cell_type": "markdown",
   "id": "747fd2f8",
   "metadata": {},
   "source": [
    "![title](imagens/M03-NocoesEstatistica.jpg)"
   ]
  },
  {
   "cell_type": "markdown",
   "id": "f11ff232",
   "metadata": {},
   "source": [
    "## Noções de Matemática - Estatística e Probabilidade - Parte 8\n",
    "\n",
    "## 8. Teste de Hipóteses"
   ]
  },
  {
   "cell_type": "markdown",
   "id": "7f6ac2cd",
   "metadata": {},
   "source": [
    "**8.1 Conceitos Básicos de Teste de Hipóteses**\n",
    "\n",
    "O teste de hipóteses é uma técnica estatística usada para tomar decisões sobre uma afirmação (hipótese) feita sobre uma população com base em evidências de uma amostra. Os principais conceitos envolvidos em um teste de hipóteses são:\n",
    "\n",
    "•\t**Hipótese Nula (H0)**: É a afirmação que se assume como verdadeira e é testada. Representa a situação em que não há efeito ou diferença significativa.\n",
    "\n",
    "•\t**Hipótese Alternativa (Ha)**: É a afirmação oposta à hipótese nula. Representa a situação em que há um efeito ou diferença significativa.\n",
    "\n",
    "•\t**Nível de Significância (α)**: É a probabilidade de rejeitar a hipótese nula quando ela é verdadeira. Geralmente, é fixado em um valor pequeno, como 0,05 ou 0,01.\n",
    "\n",
    "•\t**Valor-P (p-value)**: É a probabilidade de obter uma estatística de teste igual ou mais extrema do que a observada, assumindo que a hipótese nula seja verdadeira. É usado para tomar a decisão de aceitar ou rejeitar a hipótese nula.\n",
    "\n",
    "•\t**Decisão**: Com base no valor-p e no nível de significância, decide-se rejeitar ou não rejeitar a hipótese nula. Se o valor-p for menor que o nível de significância, rejeita-se a hipótese nula; caso contrário, não se tem evidências suficientes para rejeitá-la.\n"
   ]
  },
  {
   "cell_type": "markdown",
   "id": "d6b38674",
   "metadata": {},
   "source": [
    "**8.2 Teste de Hipóteses para uma Média Populacional**\n",
    "\n",
    "O teste de hipóteses para uma média populacional é usado quando se deseja fazer afirmações sobre a média de uma população com base em uma amostra. Os passos gerais para realizar um teste de hipóteses para uma média populacional são:\n",
    "\n",
    "•\t**Formular as hipóteses nula e alternativa**: Definir as hipóteses nula (H0) e alternativa (Ha) com base na afirmação que se deseja testar.\n",
    "\n",
    "•\t**Determinar o nível de significância**: Escolher o nível de significância (α) para o teste. Geralmente, é utilizado o valor de 0,05.\n",
    "\n",
    "•\t**Calcular a estatística de teste**: Calcular a estatística de teste apropriada para o teste de hipóteses. Por exemplo, se a amostra é grande e a variância populacional é conhecida, pode-se utilizar o teste z; caso contrário, se a amostra é pequena ou a variância populacional é desconhecida, pode-se utilizar o teste t de Student.\n",
    "\n",
    "•\t**Calcular o valor-p**: Calcular o valor-p correspondente à estatística de teste.\n",
    "\n",
    "•\t**Tomar a decisão**: Comparar o valor-p com o nível de significância e tomar a decisão de aceitar ou rejeitar a hipótese nula. Se o valor-p for menor que o nível de significância, rejeita-se H0; caso contrário, não se tem evidências suficientes para rejeitá-la.\n",
    "\n",
    "Teste de Hipóteses para uma Média Populacional\n"
   ]
  },
  {
   "cell_type": "code",
   "execution_count": 1,
   "id": "9bc8aa48",
   "metadata": {},
   "outputs": [
    {
     "name": "stdout",
     "output_type": "stream",
     "text": [
      "valor_p: 0.10674552235509217\n",
      "Aceitar H0: não há evidências suficientes para afirmar que a média populacional é diferente de 30.\n"
     ]
    }
   ],
   "source": [
    "import numpy as np\n",
    "from scipy import stats\n",
    "\n",
    "# Dados de exemplo (amostra)\n",
    "amostra = np.array([25, 30, 35, 40, 45, 50])\n",
    "\n",
    "# Teste de hipóteses para a média populacional\n",
    "# Hipótese nula: média populacional = 30\n",
    "# Hipótese alternativa: média populacional != 30\n",
    "\n",
    "# Realizar o teste de hipóteses\n",
    "valor_p = stats.ttest_1samp(amostra, 30).pvalue\n",
    "print(f\"valor_p: {valor_p}\")\n",
    "\n",
    "# Comparar o valor-p com o nível de significância (α = 0.05)\n",
    "nivel_significancia = 0.05\n",
    "if valor_p < nivel_significancia:\n",
    "    print(\"Rejeitar H0: a média populacional é diferente de 30.\")\n",
    "else:\n",
    "    print(\"Aceitar H0: não há evidências suficientes para afirmar que a média populacional é diferente de 30.\")"
   ]
  },
  {
   "cell_type": "markdown",
   "id": "a0cfa24a",
   "metadata": {},
   "source": [
    "**8.3 Teste de Hipóteses para Duas Médias Populacionais**\n",
    "\n",
    "O teste de hipóteses para duas médias populacionais é usado quando se deseja fazer afirmações sobre a diferença entre duas médias de duas populações diferentes com base em duas amostras independentes. Os passos gerais para realizar um teste de hipóteses para duas médias populacionais são:\n",
    "\n",
    "•\t**Formular as hipóteses nula e alternativa**: Definir as hipóteses nula (H0) e alternativa (Ha) com base na afirmação que se deseja testar.\n",
    "\n",
    "•\t**Determinar o nível de significância**: Escolher o nível de significância (α) para o teste. Geralmente, é utilizado o valor de 0,05.\n",
    "\n",
    "•\t**Calcular a estatística de teste**: Calcular a estatística de teste apropriada para o teste de hipóteses. Pode-se utilizar o teste t de Student, assumindo a igualdade ou a diferença das variâncias populacionais, dependendo do caso.\n",
    "\n",
    "•\t**Calcular o valor-p**: Calcular o valor-p correspondente à estatística de teste.\n",
    "\n",
    "•\t**Tomar a decisão**: Comparar o valor-p com o nível de significância e tomar a decisão de aceitar ou rejeitar a hipótese nula. Se o valor-p for menor que o nível de significância, rejeita-se H0; caso contrário, não se tem evidências suficientes para rejeitá-la.\n",
    "\n",
    "Teste de Hipóteses para Duas Médias Populacionais"
   ]
  },
  {
   "cell_type": "code",
   "execution_count": 3,
   "id": "bb27a25b",
   "metadata": {},
   "outputs": [
    {
     "name": "stdout",
     "output_type": "stream",
     "text": [
      "valor_p:  0.606866390991796\n",
      "Aceitar H0: não há evidências suficientes para afirmar que há diferença significativa entre as médias populacionais.\n"
     ]
    }
   ],
   "source": [
    "import numpy as np\n",
    "from scipy import stats\n",
    "\n",
    "#Dados de exemplo (amostras independentes)\n",
    "amostra1 = np.array([25, 30, 35, 40, 45])\n",
    "amostra2 = np.array([20, 28, 33, 38, 42])\n",
    "\n",
    "# Teste de hipóteses para a diferença de médias populacionais\n",
    "# Hipótese nula: média populacional1 - média populacional2 = 0\n",
    "# Hipótese alternativa: média populacional1 - média populacional2 != 0\n",
    "\n",
    "# Realizar o teste de hipóteses\n",
    "valor_p = stats.ttest_ind(amostra1, amostra2).pvalue\n",
    "print(\"valor_p: \", valor_p)\n",
    "\n",
    "# Comparar o valor-p com o nível de significância (α = 0.05)\n",
    "nivel_significancia = 0.05\n",
    "if valor_p < nivel_significancia:\n",
    "    print(\"Rejeitar H0: há diferença significativa entre as médias populacionais.\")\n",
    "else:\n",
    "    print(\"Aceitar H0: não há evidências suficientes para afirmar que há diferença significativa entre as médias populacionais.\")"
   ]
  },
  {
   "cell_type": "markdown",
   "id": "acb831ab",
   "metadata": {},
   "source": [
    "# Fim"
   ]
  }
 ],
 "metadata": {
  "kernelspec": {
   "display_name": "Python 3 (ipykernel)",
   "language": "python",
   "name": "python3"
  },
  "language_info": {
   "codemirror_mode": {
    "name": "ipython",
    "version": 3
   },
   "file_extension": ".py",
   "mimetype": "text/x-python",
   "name": "python",
   "nbconvert_exporter": "python",
   "pygments_lexer": "ipython3",
   "version": "3.11.7"
  }
 },
 "nbformat": 4,
 "nbformat_minor": 5
}
