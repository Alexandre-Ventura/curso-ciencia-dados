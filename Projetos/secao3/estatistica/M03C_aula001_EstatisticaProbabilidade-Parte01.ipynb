{
 "cells": [
  {
   "cell_type": "markdown",
   "id": "747fd2f8",
   "metadata": {},
   "source": [
    "![title](imagens/M03-NocoesEstatistica.jpg)"
   ]
  },
  {
   "cell_type": "markdown",
   "id": "f11ff232",
   "metadata": {},
   "source": [
    "## Noções de Matemática - Estatística e Probabilidade - Parte 1"
   ]
  },
  {
   "cell_type": "markdown",
   "id": "7f6ac2cd",
   "metadata": {},
   "source": [
    "Ao longo desse módulo vamos trabalhar uma introdução ao universo da Estatistica e Probabilidade voltadas para Ciência de dados. Os tópicos que abordaremos em cada um dos Notebooks (Partes) são os seguintes:\n",
    "\n",
    "#### Introdução à Estatística\n",
    "- 1.1 O que é Estatística?\n",
    "- 1.2 Conceitos básicos\n",
    "- 1.3 Objetivos da estatística\n",
    "- 1.4 População e amostra\n",
    "- 1.5 Variáveis\n",
    "\n",
    "#### Tipos de Dados\n",
    "- 2.1 Dados qualitativos e quantitativos\n",
    "- 2.2 Dados discretos e contínuos\n",
    "\n",
    "#### Medidas de Tendência Central\n",
    "- 3.1 Média\n",
    "- 3.2 Mediana\n",
    "- 3.3 Moda\n",
    "\n",
    "#### Medidas de Dispersão\n",
    "- 4.1 Variância\n",
    "- 4.2 Desvio padrão\n",
    "- 4.3 Intervalo interquartil\n",
    "\n",
    "#### Distribuições de Probabilidade\n",
    "- 5.1 Distribuição normal\n",
    "- 5.2 Distribuição binomial\n",
    "- 5.3 Distribuição de Poisson\n",
    "\n",
    "#### Probabilidade e Inferência Estatística\n",
    "- 6.1 Conceitos básicos\n",
    "- 6.2 Regra da adição\n",
    "- 6.3 Regra da multiplicação\n",
    "- 6.4 Eventos independentes e dependentes\n",
    "\n",
    "#### Amostragem e Estimação\n",
    "- 7.1 Amostragem aleatória simples\n",
    "- 7.2 Estimativa de parâmetros populacionais\n",
    "- 7.3 Intervalo de confiança\n",
    "\n",
    "#### Teste de Hipóteses\n",
    "- 8.1 Conceitos básicos de teste de hipóteses\n",
    "- 8.2 Teste de hipóteses para uma média populacional\n",
    "- 8.3 Teste de hipóteses para duas médias populacionais\n",
    "\n",
    "#### Regressão Linear\n",
    "- 9.1 Análise de regressão simples\n",
    "- 9.2 Coeficiente de correlação\n",
    "- 9.3 Coeficiente de determinação\n",
    "\n",
    "#### Análise de Variância (ANOVA)\n",
    "- 10.1 Conceitos básicos de ANOVA\n",
    "\n",
    "Vamos começar com uma introdução a Estatística...\n"
   ]
  },
  {
   "cell_type": "markdown",
   "id": "33051073",
   "metadata": {},
   "source": [
    "## 1. Introdução à Estatística"
   ]
  },
  {
   "cell_type": "markdown",
   "id": "e0e72c0f",
   "metadata": {},
   "source": [
    "A estatística é uma disciplina que envolve a coleta, organização, análise, interpretação e apresentação de dados. Na Ciência de Dados, a estatística desempenha um papel fundamental ao lidar com a compreensão e a extração de informações de conjuntos de dados.\n",
    "\n",
    "**1.1 O que é Estatística?**\n",
    "\n",
    "A estatística é o estudo de como lidar com a incerteza por meio da análise de dados. Ela envolve a aplicação de métodos estatísticos para resumir, analisar e interpretar os dados, permitindo que sejam feitas inferências sobre as populações das quais os dados foram coletados.\n",
    "\n",
    "Um conceito importante que devemos sempre se lembrar quando trabalhamos com estatística é: “A estatística deve simplificar, e não complicar, a interpretação dos dados”.\n",
    "\n",
    "A **estatística descritiva** é representada por um conjunto de métodos que descreve os dados coletados — e tem por objetivo fazer com que eles sejam compreendidos mais facilmente. Isso se dá por meio da organização, simplificação, descrição e apresentação dos dados. Tabelas, gráficos e medidas que resumem os dados brutos são suas ferramentas. Ex: a média de gastos em compras online é de R$ 93,05.\n",
    "\n",
    "A **estatística inferencial** é representada por um conjunto de métodos de análise que nos permite tirar conclusões (inferir) sobre a população com base em apenas parte dela (amostra). Alguns exemplos de análises ou testes inferenciais são: qui-quadrado, anova, teste t, correlação, regressão linear, regressão logística etc.  Ex: Quem compra um determinado produto A, tem 90% de chance de se interessar por um outro produto B.\n"
   ]
  },
  {
   "cell_type": "markdown",
   "id": "9a1d7570",
   "metadata": {},
   "source": [
    "**1.2 Conceitos básicos**\n",
    "\n",
    "Alguns conceitos básicos na estatística são essenciais para uma compreensão adequada da disciplina. Aqui estão alguns deles:\n",
    "\n",
    "•\t**Dados**: São observações ou informações coletadas a partir de uma fonte. Os dados podem ser representados de forma numérica, categórica ou descritiva.\n",
    "\n",
    "•\t**Variáveis**: São características ou propriedades que podem variar e ser medidas em diferentes unidades. Existem dois tipos principais de variáveis:\n",
    "\n",
    "    - Variáveis Quantitativas: Representam quantidades numéricas e podem ser contínuas (como a altura de uma pessoa) ou discretas (como o número de filhos de uma família).\n",
    "    \n",
    "    - Variáveis Qualitativas: Representam atributos ou qualidades que não podem ser quantificadas numericamente. São divididas em duas categorias: nominais (como o gênero de uma pessoa) e ordinais (como a classificação de satisfação do cliente em \"ruim\", \"regular\" e \"bom\").\n",
    "\n",
    "•\t**População**: É o conjunto completo de todos os elementos que possuem uma característica específica em comum. Por exemplo, se estamos estudando a altura das pessoas no mundo inteiro, a população seria todas as pessoas no planeta.\n",
    "\n",
    "•\t**Amostra**: É um subconjunto representativo selecionado da população. A amostra é usada para obter informações sobre a população como um todo. A seleção da amostra deve ser feita de forma aleatória e representativa para evitar vieses.\n",
    "\n",
    "![title](imagens/PopAmo.jpg)\n"
   ]
  },
  {
   "cell_type": "markdown",
   "id": "7156ecca",
   "metadata": {},
   "source": [
    "**1.3 Objetivos da estatística**\n",
    "\n",
    "A estatística tem vários objetivos e aplicações na Ciência de Dados. Alguns dos principais são:\n",
    "\n",
    "•\t**Descrição**: A estatística descritiva busca resumir e descrever os dados por meio de medidas de tendência central (como média, mediana e moda) e medidas de dispersão (como desvio padrão e variância). Essas medidas fornecem uma visão geral dos dados e de sua variabilidade.\n",
    "\n",
    "•\t**Inferência**: A estatística inferencial utiliza amostras para fazer inferências e generalizações sobre as populações maiores. Com base nas informações obtidas na amostra, é possível fazer estimativas e testar hipóteses sobre as características da população.\n"
   ]
  },
  {
   "cell_type": "markdown",
   "id": "6d872b93",
   "metadata": {},
   "source": [
    "**1.4 População e amostra**\n",
    "\n",
    "Na Ciência de Dados, trabalhamos com amostras de dados para inferir informações sobre uma população maior. Aqui estão algumas etapas envolvidas no processo:\n",
    "\n",
    "![title](imagens/PopAmo.jpg)\n",
    "\n",
    "•\t**Definir a população**: Identifique a população de interesse para a sua análise. Por exemplo, se você está estudando o desempenho acadêmico dos estudantes de uma universidade, a população seria todos os estudantes matriculados na universidade.\n",
    "\n",
    "•\t**Selecionar a amostra**: Determine um método de amostragem adequado para selecionar uma amostra representativa da população. Existem vários métodos de amostragem, como amostragem aleatória simples, amostragem estratificada e amostragem por conglomerado.\n",
    "\n",
    "•\t**Coletar os dados**: Uma vez que a amostra tenha sido selecionada, colete os dados relevantes para as variáveis de interesse. Isso pode ser feito por meio de pesquisas, experimentos ou outras técnicas de coleta de dados.\n",
    "\n",
    "•\t**Analisar a amostra**: Aplique técnicas estatísticas para analisar os dados da amostra. Calcule medidas de tendência central, medidas de dispersão e realize análises gráficas para entender as características da amostra.\n",
    "\n",
    "•\t**Inferir sobre a população**: Com base nas análises da amostra, faça inferências e generalizações sobre a população maior. Isso pode envolver a criação de intervalos de confiança para estimar parâmetros populacionais ou a realização de testes de hipóteses.\n",
    "\n",
    "Devemos ter em mente que uma amostra nunca representará perfeitamente uma população.  Assim, temos o erro amostral, que é representado pela diferença entre o resultado amostral e o verdadeiro valor populacional.\n",
    "O problema do erro amostral é que ele atrapalha inferirmos sobre características da população a partir de dados amostrais. Ele pode nos levar a tirar conclusões errôneas. Isso pode ocorrer por dois motivos: a) dados coletados, registrados ou analisados incorretamente; b) flutuações amostrais aleatórias. A solução para o primeiro caso é refazer o processo com mais atenção. E para o segundo caso, aumentar o tamanho amostral.\n",
    "Quanto menor o erro amostral, melhor!!\n"
   ]
  },
  {
   "cell_type": "code",
   "execution_count": 1,
   "id": "8d402c78",
   "metadata": {},
   "outputs": [
    {
     "name": "stdout",
     "output_type": "stream",
     "text": [
      "[165 170 155 180 160 175]\n"
     ]
    }
   ],
   "source": [
    "#Exemplo de criação de um conjunto de dados utilizando a biblioteca NumPy:\n",
    "\n",
    "import numpy as np\n",
    "\n",
    "# Criação de um conjunto de dados de altura (variável quantitativa)\n",
    "altura = np.array([165, 170, 155, 180, 160, 175])\n",
    "print(altura)"
   ]
  },
  {
   "cell_type": "code",
   "execution_count": 2,
   "id": "32321863",
   "metadata": {},
   "outputs": [
    {
     "data": {
      "text/html": [
       "<div>\n",
       "<style scoped>\n",
       "    .dataframe tbody tr th:only-of-type {\n",
       "        vertical-align: middle;\n",
       "    }\n",
       "\n",
       "    .dataframe tbody tr th {\n",
       "        vertical-align: top;\n",
       "    }\n",
       "\n",
       "    .dataframe thead th {\n",
       "        text-align: right;\n",
       "    }\n",
       "</style>\n",
       "<table border=\"1\" class=\"dataframe\">\n",
       "  <thead>\n",
       "    <tr style=\"text-align: right;\">\n",
       "      <th></th>\n",
       "      <th>Cliente</th>\n",
       "      <th>Satisfação</th>\n",
       "    </tr>\n",
       "  </thead>\n",
       "  <tbody>\n",
       "    <tr>\n",
       "      <th>0</th>\n",
       "      <td>A</td>\n",
       "      <td>Bom</td>\n",
       "    </tr>\n",
       "    <tr>\n",
       "      <th>1</th>\n",
       "      <td>B</td>\n",
       "      <td>Ruim</td>\n",
       "    </tr>\n",
       "    <tr>\n",
       "      <th>2</th>\n",
       "      <td>C</td>\n",
       "      <td>Regular</td>\n",
       "    </tr>\n",
       "    <tr>\n",
       "      <th>3</th>\n",
       "      <td>D</td>\n",
       "      <td>Bom</td>\n",
       "    </tr>\n",
       "    <tr>\n",
       "      <th>4</th>\n",
       "      <td>E</td>\n",
       "      <td>Regular</td>\n",
       "    </tr>\n",
       "  </tbody>\n",
       "</table>\n",
       "</div>"
      ],
      "text/plain": [
       "  Cliente Satisfação\n",
       "0       A        Bom\n",
       "1       B       Ruim\n",
       "2       C    Regular\n",
       "3       D        Bom\n",
       "4       E    Regular"
      ]
     },
     "execution_count": 2,
     "metadata": {},
     "output_type": "execute_result"
    }
   ],
   "source": [
    "#Exemplo de criação de um conjunto de dados utilizando a biblioteca Pandas:\n",
    "\n",
    "import pandas as pd\n",
    "\n",
    "# Criação de um DataFrame com dados de satisfação do cliente (variável qualitativa ordinal)\n",
    "dados = pd.DataFrame({'Cliente': ['A', 'B', 'C', 'D', 'E'],\n",
    "                      'Satisfação': ['Bom', 'Ruim', 'Regular', 'Bom', 'Regular']})\n",
    "# Exibindo o Dataframe\n",
    "dados.head()"
   ]
  },
  {
   "cell_type": "code",
   "execution_count": null,
   "id": "52ed1453",
   "metadata": {},
   "outputs": [],
   "source": [
    "#Exemplo de cálculo da média utilizando a biblioteca NumPy:\n",
    "media = np.mean(altura)\n",
    "print(\"A média da altura é:\", media)"
   ]
  },
  {
   "cell_type": "code",
   "execution_count": null,
   "id": "1b0056a3",
   "metadata": {},
   "outputs": [],
   "source": [
    "#Exemplo de seleção de uma amostra aleatória utilizando a biblioteca Pandas:\n",
    "amostra = dados.sample(n=3)\n",
    "print(\"Amostra selecionada:\\n\", amostra)"
   ]
  },
  {
   "cell_type": "markdown",
   "id": "a6506a1d",
   "metadata": {},
   "source": [
    "Bons estudos e até a próxima parte."
   ]
  },
  {
   "cell_type": "markdown",
   "id": "acb831ab",
   "metadata": {},
   "source": [
    "# Fim"
   ]
  }
 ],
 "metadata": {
  "kernelspec": {
   "display_name": "Python 3 (ipykernel)",
   "language": "python",
   "name": "python3"
  },
  "language_info": {
   "codemirror_mode": {
    "name": "ipython",
    "version": 3
   },
   "file_extension": ".py",
   "mimetype": "text/x-python",
   "name": "python",
   "nbconvert_exporter": "python",
   "pygments_lexer": "ipython3",
   "version": "3.11.7"
  }
 },
 "nbformat": 4,
 "nbformat_minor": 5
}
