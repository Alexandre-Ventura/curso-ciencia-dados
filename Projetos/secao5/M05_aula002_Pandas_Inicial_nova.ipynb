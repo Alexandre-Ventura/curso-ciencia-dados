{
 "cells": [
  {
   "cell_type": "markdown",
   "id": "802f1483",
   "metadata": {},
   "source": [
    "![title](imagens/M05-Pandas.jpg)"
   ]
  },
  {
   "cell_type": "markdown",
   "id": "ecb17cba",
   "metadata": {},
   "source": [
    "# Introdução ao Pandas: Explorando as Bases do Pacote - Parte 1"
   ]
  },
  {
   "cell_type": "markdown",
   "id": "4209f15d",
   "metadata": {},
   "source": [
    "Bem-vindo ao nosso guia introdutório sobre o pacote Pandas! O Pandas é uma ferramenta essencial para análise e manipulação de dados em Python, amplamente adotada por profissionais de diversas áreas, como cientistas de dados, engenheiros e analistas. Ele oferece estruturas de dados poderosas e flexíveis, juntamente com uma variedade de ferramentas para facilitar a exploração e análise de conjuntos de dados.\n",
    "\n",
    "### 1.1 O que é o Pandas?\n",
    "\n",
    "O Pandas é uma biblioteca de código aberto que proporciona estruturas de dados de alto nível e ferramentas para análise de dados em Python. Ele se baseia no NumPy, outro pacote popular para computação numérica em Python. O Pandas é especialmente útil para lidar com dados tabulares e séries temporais, tornando-se uma escolha poderosa para uma variedade de tarefas de análise de dados.\n",
    "\n",
    "### 1.2 Principais Recursos do Pandas\n",
    "\n",
    "- **DataFrames:** O DataFrame é a estrutura de dados central do Pandas. Ele representa dados tabulares com linhas e colunas, semelhante a uma planilha ou tabela SQL. Os DataFrames oferecem uma maneira intuitiva e flexível de manipular e analisar dados.\n",
    "\n",
    "- **Series:** Uma Series é uma estrutura de dados unidimensional semelhante a um array que pode conter qualquer tipo de dados. É uma das estruturas fundamentais do Pandas e é comumente usada para representar uma única coluna de dados em um DataFrame.\n",
    "\n",
    "- **Manipulação de Dados Simplificada:** O Pandas oferece uma ampla gama de funcionalidades para filtrar, ordenar, agrupar e combinar dados, tornando a manipulação e análise de conjuntos de dados complexos mais simples e eficientes.\n",
    "\n",
    "### 1.3 Onde Encontrar mais Informações\n",
    "\n",
    "Para obter mais informações sobre o Pandas e suas capacidades, você pode consultar a documentação oficial em [pandas.pydata.org](https://pandas.pydata.org/). Lá, você encontrará uma documentação detalhada, tutoriais e exemplos que podem ajudá-lo a explorar e utilizar essa poderosa ferramenta de análise de dados.\n",
    "\n"
   ]
  },
  {
   "cell_type": "markdown",
   "id": "5230735e",
   "metadata": {},
   "source": [
    "### 1.4 Instalação do Pandas e Importação\n",
    "Para instalar o Pandas, você pode usar o seguinte comando:\n",
    "**!pip install -q pandas==2.2.2**"
   ]
  },
  {
   "cell_type": "code",
   "execution_count": null,
   "id": "ddc794f9",
   "metadata": {},
   "outputs": [],
   "source": [
    "# Instalando uma versão específica do pacote Pandas\n",
    "# !pip install -q pandas==2.2.2"
   ]
  },
  {
   "cell_type": "code",
   "execution_count": 1,
   "id": "455c730b",
   "metadata": {},
   "outputs": [],
   "source": [
    "# Importando o pacote Pandas para utilização\n",
    "import pandas as pd"
   ]
  },
  {
   "cell_type": "code",
   "execution_count": 2,
   "id": "c1314436",
   "metadata": {},
   "outputs": [
    {
     "data": {
      "text/plain": [
       "'2.2.2'"
      ]
     },
     "execution_count": 2,
     "metadata": {},
     "output_type": "execute_result"
    }
   ],
   "source": [
    "# Verificando a versão do Pandas\n",
    "pd.__version__"
   ]
  },
  {
   "cell_type": "markdown",
   "id": "6cb5a0e6",
   "metadata": {},
   "source": [
    "### 1.5 Próximos Passos\n",
    "\n",
    "Nos próximos notebooks, continuaremos nossa exploração do Pandas, concentrando-nos nos dois conceitos centrais: Series e DataFrames. Você aprenderá como criar, manipular e analisar essas estruturas de dados, preparando-o para realizar análises de dados complexas e interessantes."
   ]
  },
  {
   "cell_type": "markdown",
   "id": "f0b3886e",
   "metadata": {},
   "source": [
    "# FIM"
   ]
  }
 ],
 "metadata": {
  "kernelspec": {
   "display_name": "Python 3 (ipykernel)",
   "language": "python",
   "name": "python3"
  },
  "language_info": {
   "codemirror_mode": {
    "name": "ipython",
    "version": 3
   },
   "file_extension": ".py",
   "mimetype": "text/x-python",
   "name": "python",
   "nbconvert_exporter": "python",
   "pygments_lexer": "ipython3",
   "version": "3.11.7"
  }
 },
 "nbformat": 4,
 "nbformat_minor": 5
}
