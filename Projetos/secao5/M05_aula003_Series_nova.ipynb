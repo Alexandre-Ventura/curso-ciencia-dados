{
 "cells": [
  {
   "cell_type": "markdown",
   "metadata": {},
   "source": [
    "![title](imagens/M05-Pandas.jpg)"
   ]
  },
  {
   "cell_type": "markdown",
   "metadata": {},
   "source": [
    "# Pandas - Noções básicas do pacote Pandas - Parte 2"
   ]
  },
  {
   "cell_type": "markdown",
   "metadata": {},
   "source": [
    "# Series\n",
    "\n",
    "Vamos começar aprendendo sobre o primeiro tipo de dado: a Série. Para isso, iremos importar o Pandas e examinar esse objeto em detalhes.\n",
    "\n",
    "A Série é bastante semelhante a uma matriz NumPy, construída sobre o objeto de matriz NumPy. No entanto, o que a distingue é a capacidade de ter rótulos de eixos. Isso significa que pode ser indexada por um rótulo, em vez de apenas por uma localização numérica. Além disso, não está limitada a manter dados numéricos, podendo conter qualquer objeto Python arbitrários:\""
   ]
  },
  {
   "cell_type": "markdown",
   "metadata": {},
   "source": [
    "**2.1. O que são Séries?**\n",
    "\n",
    "As séries são uma estrutura de dados fundamental no Pandas.\n",
    "Elas são semelhantes a arrays NumPy, mas com rótulos de eixos (índices).\n",
    "Diferentemente de arrays, as séries podem conter qualquer tipo de dado.\n",
    "\n",
    "**2.2. Características das Séries:**\n",
    "\n",
    "- Indexação por Rótulos: Cada valor em uma série tem um rótulo associado (índice). Isso permite acessar os valores não apenas por posição numérica, mas também por rótulo.\n",
    "- Flexibilidade de Dados: As séries podem conter números, strings, datas, objetos Python, etc."
   ]
  },
  {
   "cell_type": "code",
   "execution_count": 1,
   "metadata": {},
   "outputs": [],
   "source": [
    "import numpy as np\n",
    "import pandas as pd"
   ]
  },
  {
   "cell_type": "markdown",
   "metadata": {},
   "source": [
    "### 2.1 Criando uma Serie\n",
    "\n",
    "A partir de uma lista:"
   ]
  },
  {
   "cell_type": "code",
   "execution_count": 2,
   "metadata": {},
   "outputs": [
    {
     "name": "stdout",
     "output_type": "stream",
     "text": [
      "a    10\n",
      "b    20\n",
      "c    30\n",
      "dtype: int64\n"
     ]
    }
   ],
   "source": [
    "labels = ['a', 'b', 'c']\n",
    "minha_lista = [10, 20, 30]\n",
    "\n",
    "serie_minha_lista = pd.Series(data=minha_lista, index=labels)\n",
    "print(serie_minha_lista)"
   ]
  },
  {
   "cell_type": "markdown",
   "metadata": {},
   "source": [
    "A partir de um Array Numpy:"
   ]
  },
  {
   "cell_type": "code",
   "execution_count": 3,
   "metadata": {},
   "outputs": [
    {
     "name": "stdout",
     "output_type": "stream",
     "text": [
      "a    10\n",
      "b    20\n",
      "c    30\n",
      "dtype: int32\n"
     ]
    }
   ],
   "source": [
    "arr = np.array([10, 20, 30])\n",
    "serie_arr = pd.Series(arr, index=labels)\n",
    "print(serie_arr)"
   ]
  },
  {
   "cell_type": "markdown",
   "metadata": {},
   "source": [
    "A partir de um Dicionário:"
   ]
  },
  {
   "cell_type": "code",
   "execution_count": 4,
   "metadata": {},
   "outputs": [
    {
     "name": "stdout",
     "output_type": "stream",
     "text": [
      "a    10\n",
      "b    20\n",
      "c    30\n",
      "dtype: int64\n"
     ]
    }
   ],
   "source": [
    "d = {'a': 10, 'b': 20, 'c': 30}\n",
    "serie_d = pd.Series(d)\n",
    "print(serie_d)"
   ]
  },
  {
   "cell_type": "markdown",
   "metadata": {},
   "source": [
    "### 2.2 Explorando uma Série\n",
    "\n",
    "Visualização dos Dados"
   ]
  },
  {
   "cell_type": "code",
   "execution_count": 5,
   "metadata": {},
   "outputs": [
    {
     "name": "stdout",
     "output_type": "stream",
     "text": [
      "a    10\n",
      "b    20\n",
      "c    30\n",
      "dtype: int64\n"
     ]
    }
   ],
   "source": [
    "# Mostrando a série (indices e dados)\n",
    "print(serie_minha_lista)"
   ]
  },
  {
   "cell_type": "code",
   "execution_count": 6,
   "metadata": {},
   "outputs": [
    {
     "name": "stdout",
     "output_type": "stream",
     "text": [
      "Index(['a', 'b', 'c'], dtype='object')\n"
     ]
    }
   ],
   "source": [
    "# Mostrando os índices da série\n",
    "print(serie_minha_lista.index)"
   ]
  },
  {
   "cell_type": "code",
   "execution_count": 7,
   "metadata": {},
   "outputs": [
    {
     "name": "stdout",
     "output_type": "stream",
     "text": [
      "[10 20 30]\n"
     ]
    }
   ],
   "source": [
    "# Mostrando apenas os dados\n",
    "print(serie_minha_lista.values)"
   ]
  },
  {
   "cell_type": "markdown",
   "metadata": {},
   "source": [
    "Métodos úteis"
   ]
  },
  {
   "cell_type": "code",
   "execution_count": 8,
   "metadata": {},
   "outputs": [
    {
     "name": "stdout",
     "output_type": "stream",
     "text": [
      "a    10\n",
      "b    20\n",
      "c    30\n",
      "dtype: int64\n"
     ]
    }
   ],
   "source": [
    "# Primeiros valores\n",
    "print(serie_minha_lista.head()) "
   ]
  },
  {
   "cell_type": "code",
   "execution_count": 9,
   "metadata": {},
   "outputs": [
    {
     "name": "stdout",
     "output_type": "stream",
     "text": [
      "count     3.0\n",
      "mean     20.0\n",
      "std      10.0\n",
      "min      10.0\n",
      "25%      15.0\n",
      "50%      20.0\n",
      "75%      25.0\n",
      "max      30.0\n",
      "dtype: float64\n"
     ]
    }
   ],
   "source": [
    "# Estatísticas resumidas\n",
    "print(serie_minha_lista.describe()) "
   ]
  },
  {
   "cell_type": "markdown",
   "metadata": {},
   "source": [
    "### 2.3 Operações com Séries\n",
    "\n",
    "Soma, Subtração, Multiplicação etc"
   ]
  },
  {
   "cell_type": "code",
   "execution_count": 10,
   "metadata": {},
   "outputs": [],
   "source": [
    "serie_soma = serie_minha_lista + serie_arr"
   ]
  },
  {
   "cell_type": "code",
   "execution_count": 11,
   "metadata": {},
   "outputs": [
    {
     "name": "stdout",
     "output_type": "stream",
     "text": [
      "a    20\n",
      "b    40\n",
      "c    60\n",
      "dtype: int64\n"
     ]
    }
   ],
   "source": [
    "print(serie_soma)"
   ]
  },
  {
   "cell_type": "markdown",
   "metadata": {},
   "source": [
    "Filtragem de Dados"
   ]
  },
  {
   "cell_type": "code",
   "execution_count": 12,
   "metadata": {},
   "outputs": [
    {
     "name": "stdout",
     "output_type": "stream",
     "text": [
      "b    20\n",
      "c    30\n",
      "dtype: int64\n"
     ]
    }
   ],
   "source": [
    "filtro = serie_minha_lista > 15\n",
    "serie_filtrada = serie_minha_lista[filtro]\n",
    "print(serie_filtrada)"
   ]
  },
  {
   "cell_type": "markdown",
   "metadata": {},
   "source": [
    "### 2.4 Manipulação de Índices\n",
    "\n",
    "Renomeando Índices"
   ]
  },
  {
   "cell_type": "code",
   "execution_count": 13,
   "metadata": {},
   "outputs": [
    {
     "name": "stdout",
     "output_type": "stream",
     "text": [
      "A    10\n",
      "B    20\n",
      "c    30\n",
      "dtype: int64\n"
     ]
    }
   ],
   "source": [
    "serie_minha_lista.rename(index={'a': 'A', 'b': 'B'}, inplace=True)\n",
    "print(serie_minha_lista)"
   ]
  },
  {
   "cell_type": "markdown",
   "metadata": {},
   "source": [
    "Reordenando índices"
   ]
  },
  {
   "cell_type": "code",
   "execution_count": 14,
   "metadata": {},
   "outputs": [
    {
     "name": "stdout",
     "output_type": "stream",
     "text": [
      "c    30.0\n",
      "B    20.0\n",
      "a     NaN\n",
      "dtype: float64\n"
     ]
    }
   ],
   "source": [
    "serie_minha_lista = serie_minha_lista.reindex(['c', 'B', 'a'])\n",
    "print(serie_minha_lista)"
   ]
  },
  {
   "cell_type": "markdown",
   "metadata": {},
   "source": [
    "### 2.5 Tratamento de Valores Ausentes\n",
    "\n",
    "Identificando valores Nulos"
   ]
  },
  {
   "cell_type": "code",
   "execution_count": 15,
   "metadata": {},
   "outputs": [
    {
     "data": {
      "text/plain": [
       "c    False\n",
       "B    False\n",
       "a     True\n",
       "dtype: bool"
      ]
     },
     "execution_count": 15,
     "metadata": {},
     "output_type": "execute_result"
    }
   ],
   "source": [
    "serie_minha_lista.isnull()"
   ]
  },
  {
   "cell_type": "markdown",
   "metadata": {},
   "source": [
    "Preenchimento de Valores Ausentes"
   ]
  },
  {
   "cell_type": "code",
   "execution_count": 16,
   "metadata": {},
   "outputs": [
    {
     "name": "stdout",
     "output_type": "stream",
     "text": [
      "c    30.0\n",
      "B    20.0\n",
      "a     0.0\n",
      "dtype: float64\n"
     ]
    }
   ],
   "source": [
    "serie_minha_lista.fillna(0, inplace=True)\n",
    "print(serie_minha_lista)"
   ]
  },
  {
   "cell_type": "markdown",
   "metadata": {},
   "source": [
    "### 2.6 Visualização de Dados com Séries\n",
    "\n",
    "Graficos de Linhas e de Barras"
   ]
  },
  {
   "cell_type": "code",
   "execution_count": 17,
   "metadata": {},
   "outputs": [
    {
     "data": {
      "text/plain": [
       "<Axes: >"
      ]
     },
     "execution_count": 17,
     "metadata": {},
     "output_type": "execute_result"
    },
    {
     "data": {
      "image/png": "[encoded data removed]",
      "text/plain": [
       "<Figure size 640x480 with 1 Axes>"
      ]
     },
     "metadata": {},
     "output_type": "display_data"
    }
   ],
   "source": [
    "serie_minha_lista.plot(kind='line')\n",
    "serie_minha_lista.plot(kind='bar')"
   ]
  },
  {
   "cell_type": "markdown",
   "metadata": {},
   "source": [
    "### 2.7 Exemplos Práticos\n",
    "\n",
    "Dados de Vendas"
   ]
  },
  {
   "cell_type": "code",
   "execution_count": 18,
   "metadata": {},
   "outputs": [
    {
     "name": "stdout",
     "output_type": "stream",
     "text": [
      "Janeiro      1000\n",
      "Fevereiro    1500\n",
      "Março         800\n",
      "dtype: int64\n"
     ]
    }
   ],
   "source": [
    "vendas = pd.Series([1000, 1500, 800], index=['Janeiro', 'Fevereiro', 'Março'])\n",
    "print(vendas)"
   ]
  },
  {
   "cell_type": "markdown",
   "metadata": {},
   "source": [
    "Temperatura ao longo do tempo"
   ]
  },
  {
   "cell_type": "code",
   "execution_count": 19,
   "metadata": {},
   "outputs": [
    {
     "name": "stdout",
     "output_type": "stream",
     "text": [
      "2024-01-01    25\n",
      "2024-01-02    28\n",
      "2024-01-03    30\n",
      "2024-01-04    27\n",
      "Freq: D, dtype: int64\n"
     ]
    }
   ],
   "source": [
    "temperatura = pd.Series([25, 28, 30, 27], index=pd.date_range(start='2024-01-01', periods=4, freq='D'))\n",
    "print(temperatura)"
   ]
  },
  {
   "cell_type": "markdown",
   "metadata": {},
   "source": [
    "# FIM"
   ]
  }
 ],
 "metadata": {
  "kernelspec": {
   "display_name": "Python 3 (ipykernel)",
   "language": "python",
   "name": "python3"
  },
  "language_info": {
   "codemirror_mode": {
    "name": "ipython",
    "version": 3
   },
   "file_extension": ".py",
   "mimetype": "text/x-python",
   "name": "python",
   "nbconvert_exporter": "python",
   "pygments_lexer": "ipython3",
   "version": "3.10.12"
  }
 },
 "nbformat": 4,
 "nbformat_minor": 4
}
